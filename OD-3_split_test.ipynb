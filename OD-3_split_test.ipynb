{
 "cells": [
  {
   "cell_type": "markdown",
   "metadata": {},
   "source": [
    "# Самостоятельная работа по блоку OnDemand-3\n",
    "## Сплит-тестирование введения скидки 30% на подписку\n",
    "### Задача:\n",
    "1. Рассчитать, насколько различаются конверсия, средний чек и ARPU пользователей в группах А и Б (ID теста 127, даты проведения: с 2019-08-05 до 2019-08-11 включительно).\n",
    "2. Сформировать выводы по анализу."
   ]
  },
  {
   "cell_type": "markdown",
   "metadata": {},
   "source": [
    "Импортируем необходимые нам библиотеки"
   ]
  },
  {
   "cell_type": "code",
   "execution_count": 1,
   "metadata": {},
   "outputs": [],
   "source": [
    "import pandas as pd\n",
    "import numpy as np\n",
    "import matplotlib.pyplot as plt\n",
    "from scipy import stats\n",
    "from statsmodels.stats.proportion import proportion_confint\n",
    "from statsmodels.stats.weightstats import ztest\n",
    "from datetime import datetime"
   ]
  },
  {
   "cell_type": "markdown",
   "metadata": {},
   "source": [
    "Загружаем файл пользователей с разделением по группам и тестам. Выбираем необходимый нам тест."
   ]
  },
  {
   "cell_type": "code",
   "execution_count": 2,
   "metadata": {},
   "outputs": [
    {
     "data": {
      "text/html": [
       "<div>\n",
       "<style scoped>\n",
       "    .dataframe tbody tr th:only-of-type {\n",
       "        vertical-align: middle;\n",
       "    }\n",
       "\n",
       "    .dataframe tbody tr th {\n",
       "        vertical-align: top;\n",
       "    }\n",
       "\n",
       "    .dataframe thead th {\n",
       "        text-align: right;\n",
       "    }\n",
       "</style>\n",
       "<table border=\"1\" class=\"dataframe\">\n",
       "  <thead>\n",
       "    <tr style=\"text-align: right;\">\n",
       "      <th></th>\n",
       "      <th>user_id</th>\n",
       "      <th>grp</th>\n",
       "      <th>ab_test_id</th>\n",
       "    </tr>\n",
       "  </thead>\n",
       "  <tbody>\n",
       "    <tr>\n",
       "      <th>0</th>\n",
       "      <td>1</td>\n",
       "      <td>B</td>\n",
       "      <td>132</td>\n",
       "    </tr>\n",
       "    <tr>\n",
       "      <th>1</th>\n",
       "      <td>2</td>\n",
       "      <td>A</td>\n",
       "      <td>132</td>\n",
       "    </tr>\n",
       "    <tr>\n",
       "      <th>2</th>\n",
       "      <td>3</td>\n",
       "      <td>B</td>\n",
       "      <td>132</td>\n",
       "    </tr>\n",
       "    <tr>\n",
       "      <th>3</th>\n",
       "      <td>4</td>\n",
       "      <td>A</td>\n",
       "      <td>132</td>\n",
       "    </tr>\n",
       "    <tr>\n",
       "      <th>4</th>\n",
       "      <td>5</td>\n",
       "      <td>B</td>\n",
       "      <td>132</td>\n",
       "    </tr>\n",
       "  </tbody>\n",
       "</table>\n",
       "</div>"
      ],
      "text/plain": [
       "   user_id grp  ab_test_id\n",
       "0        1   B         132\n",
       "1        2   A         132\n",
       "2        3   B         132\n",
       "3        4   A         132\n",
       "4        5   B         132"
      ]
     },
     "execution_count": 2,
     "metadata": {},
     "output_type": "execute_result"
    }
   ],
   "source": [
    "ab_test_groups = pd.read_csv('ab_test_groups.csv')\n",
    "ab_test_groups.head()"
   ]
  },
  {
   "cell_type": "code",
   "execution_count": 3,
   "metadata": {
    "scrolled": false
   },
   "outputs": [
    {
     "name": "stdout",
     "output_type": "stream",
     "text": [
      "<class 'pandas.core.frame.DataFrame'>\n",
      "Int64Index: 153232 entries, 11999 to 165230\n",
      "Data columns (total 3 columns):\n",
      " #   Column      Non-Null Count   Dtype \n",
      "---  ------      --------------   ----- \n",
      " 0   user_id     153232 non-null  int64 \n",
      " 1   grp         153232 non-null  object\n",
      " 2   ab_test_id  153232 non-null  int64 \n",
      "dtypes: int64(2), object(1)\n",
      "memory usage: 4.7+ MB\n"
     ]
    }
   ],
   "source": [
    "ab_test_groups = ab_test_groups.loc[ab_test_groups.ab_test_id == 127]\n",
    "ab_test_groups.info()"
   ]
  },
  {
   "cell_type": "markdown",
   "metadata": {},
   "source": [
    "Загружаем файл с платежами. Выделяем необходимый нам период и оставляем только значимые столбцы - id пользователя и сумму."
   ]
  },
  {
   "cell_type": "code",
   "execution_count": 4,
   "metadata": {},
   "outputs": [
    {
     "data": {
      "text/html": [
       "<div>\n",
       "<style scoped>\n",
       "    .dataframe tbody tr th:only-of-type {\n",
       "        vertical-align: middle;\n",
       "    }\n",
       "\n",
       "    .dataframe tbody tr th {\n",
       "        vertical-align: top;\n",
       "    }\n",
       "\n",
       "    .dataframe thead th {\n",
       "        text-align: right;\n",
       "    }\n",
       "</style>\n",
       "<table border=\"1\" class=\"dataframe\">\n",
       "  <thead>\n",
       "    <tr style=\"text-align: right;\">\n",
       "      <th></th>\n",
       "      <th>payment_id</th>\n",
       "      <th>user_id</th>\n",
       "      <th>price</th>\n",
       "      <th>created_at</th>\n",
       "      <th>tariff</th>\n",
       "    </tr>\n",
       "  </thead>\n",
       "  <tbody>\n",
       "    <tr>\n",
       "      <th>0</th>\n",
       "      <td>1</td>\n",
       "      <td>77831</td>\n",
       "      <td>200.0</td>\n",
       "      <td>2019-08-05 00:00:54</td>\n",
       "      <td>month</td>\n",
       "    </tr>\n",
       "    <tr>\n",
       "      <th>1</th>\n",
       "      <td>2</td>\n",
       "      <td>84576</td>\n",
       "      <td>200.0</td>\n",
       "      <td>2019-08-05 00:01:05</td>\n",
       "      <td>month</td>\n",
       "    </tr>\n",
       "    <tr>\n",
       "      <th>2</th>\n",
       "      <td>3</td>\n",
       "      <td>40981</td>\n",
       "      <td>140.0</td>\n",
       "      <td>2019-08-05 00:03:47</td>\n",
       "      <td>month_30off</td>\n",
       "    </tr>\n",
       "    <tr>\n",
       "      <th>3</th>\n",
       "      <td>4</td>\n",
       "      <td>130565</td>\n",
       "      <td>140.0</td>\n",
       "      <td>2019-08-05 00:09:33</td>\n",
       "      <td>month_30off</td>\n",
       "    </tr>\n",
       "    <tr>\n",
       "      <th>4</th>\n",
       "      <td>5</td>\n",
       "      <td>34758</td>\n",
       "      <td>700.0</td>\n",
       "      <td>2019-08-05 00:12:16</td>\n",
       "      <td>year_30off</td>\n",
       "    </tr>\n",
       "  </tbody>\n",
       "</table>\n",
       "</div>"
      ],
      "text/plain": [
       "   payment_id  user_id  price           created_at       tariff\n",
       "0           1    77831  200.0  2019-08-05 00:00:54        month\n",
       "1           2    84576  200.0  2019-08-05 00:01:05        month\n",
       "2           3    40981  140.0  2019-08-05 00:03:47  month_30off\n",
       "3           4   130565  140.0  2019-08-05 00:09:33  month_30off\n",
       "4           5    34758  700.0  2019-08-05 00:12:16   year_30off"
      ]
     },
     "execution_count": 4,
     "metadata": {},
     "output_type": "execute_result"
    }
   ],
   "source": [
    "payments = pd.read_csv('payments.csv')\n",
    "payments.head()"
   ]
  },
  {
   "cell_type": "code",
   "execution_count": 5,
   "metadata": {
    "scrolled": false
   },
   "outputs": [
    {
     "data": {
      "text/html": [
       "<div>\n",
       "<style scoped>\n",
       "    .dataframe tbody tr th:only-of-type {\n",
       "        vertical-align: middle;\n",
       "    }\n",
       "\n",
       "    .dataframe tbody tr th {\n",
       "        vertical-align: top;\n",
       "    }\n",
       "\n",
       "    .dataframe thead th {\n",
       "        text-align: right;\n",
       "    }\n",
       "</style>\n",
       "<table border=\"1\" class=\"dataframe\">\n",
       "  <thead>\n",
       "    <tr style=\"text-align: right;\">\n",
       "      <th></th>\n",
       "      <th>user_id</th>\n",
       "      <th>price</th>\n",
       "    </tr>\n",
       "  </thead>\n",
       "  <tbody>\n",
       "    <tr>\n",
       "      <th>0</th>\n",
       "      <td>77831</td>\n",
       "      <td>200.0</td>\n",
       "    </tr>\n",
       "    <tr>\n",
       "      <th>1</th>\n",
       "      <td>84576</td>\n",
       "      <td>200.0</td>\n",
       "    </tr>\n",
       "    <tr>\n",
       "      <th>2</th>\n",
       "      <td>40981</td>\n",
       "      <td>140.0</td>\n",
       "    </tr>\n",
       "    <tr>\n",
       "      <th>3</th>\n",
       "      <td>130565</td>\n",
       "      <td>140.0</td>\n",
       "    </tr>\n",
       "    <tr>\n",
       "      <th>4</th>\n",
       "      <td>34758</td>\n",
       "      <td>700.0</td>\n",
       "    </tr>\n",
       "  </tbody>\n",
       "</table>\n",
       "</div>"
      ],
      "text/plain": [
       "   user_id  price\n",
       "0    77831  200.0\n",
       "1    84576  200.0\n",
       "2    40981  140.0\n",
       "3   130565  140.0\n",
       "4    34758  700.0"
      ]
     },
     "execution_count": 5,
     "metadata": {},
     "output_type": "execute_result"
    }
   ],
   "source": [
    "payments = payments.loc[(payments.created_at.astype(str) >= '2019-08-05')&\n",
    "            (payments.created_at.astype(str) < '2019-08-12'), ['user_id', 'price']]\n",
    "payments.head()"
   ]
  },
  {
   "cell_type": "markdown",
   "metadata": {},
   "source": [
    "На случай, если у каких-то пользователей больше одного платежа, сгруппируем их."
   ]
  },
  {
   "cell_type": "code",
   "execution_count": 6,
   "metadata": {
    "scrolled": true
   },
   "outputs": [
    {
     "name": "stdout",
     "output_type": "stream",
     "text": [
      "<class 'pandas.core.frame.DataFrame'>\n",
      "Int64Index: 13706 entries, 0 to 13705\n",
      "Data columns (total 2 columns):\n",
      " #   Column   Non-Null Count  Dtype  \n",
      "---  ------   --------------  -----  \n",
      " 0   user_id  13706 non-null  int64  \n",
      " 1   price    13706 non-null  float64\n",
      "dtypes: float64(1), int64(1)\n",
      "memory usage: 321.2 KB\n"
     ]
    }
   ],
   "source": [
    "payments = payments.groupby('user_id', as_index = False).agg({'price':'sum'})\n",
    "payments.info()"
   ]
  },
  {
   "cell_type": "markdown",
   "metadata": {},
   "source": [
    "Объединяем таблицы."
   ]
  },
  {
   "cell_type": "code",
   "execution_count": 7,
   "metadata": {
    "scrolled": true
   },
   "outputs": [
    {
     "data": {
      "text/html": [
       "<div>\n",
       "<style scoped>\n",
       "    .dataframe tbody tr th:only-of-type {\n",
       "        vertical-align: middle;\n",
       "    }\n",
       "\n",
       "    .dataframe tbody tr th {\n",
       "        vertical-align: top;\n",
       "    }\n",
       "\n",
       "    .dataframe thead th {\n",
       "        text-align: right;\n",
       "    }\n",
       "</style>\n",
       "<table border=\"1\" class=\"dataframe\">\n",
       "  <thead>\n",
       "    <tr style=\"text-align: right;\">\n",
       "      <th></th>\n",
       "      <th>user_id</th>\n",
       "      <th>grp</th>\n",
       "      <th>ab_test_id</th>\n",
       "      <th>price</th>\n",
       "    </tr>\n",
       "  </thead>\n",
       "  <tbody>\n",
       "    <tr>\n",
       "      <th>0</th>\n",
       "      <td>1</td>\n",
       "      <td>B</td>\n",
       "      <td>127</td>\n",
       "      <td>140.0</td>\n",
       "    </tr>\n",
       "    <tr>\n",
       "      <th>1</th>\n",
       "      <td>2</td>\n",
       "      <td>B</td>\n",
       "      <td>127</td>\n",
       "      <td>NaN</td>\n",
       "    </tr>\n",
       "    <tr>\n",
       "      <th>2</th>\n",
       "      <td>3</td>\n",
       "      <td>B</td>\n",
       "      <td>127</td>\n",
       "      <td>NaN</td>\n",
       "    </tr>\n",
       "    <tr>\n",
       "      <th>3</th>\n",
       "      <td>4</td>\n",
       "      <td>B</td>\n",
       "      <td>127</td>\n",
       "      <td>NaN</td>\n",
       "    </tr>\n",
       "    <tr>\n",
       "      <th>4</th>\n",
       "      <td>5</td>\n",
       "      <td>A</td>\n",
       "      <td>127</td>\n",
       "      <td>NaN</td>\n",
       "    </tr>\n",
       "  </tbody>\n",
       "</table>\n",
       "</div>"
      ],
      "text/plain": [
       "   user_id grp  ab_test_id  price\n",
       "0        1   B         127  140.0\n",
       "1        2   B         127    NaN\n",
       "2        3   B         127    NaN\n",
       "3        4   B         127    NaN\n",
       "4        5   A         127    NaN"
      ]
     },
     "execution_count": 7,
     "metadata": {},
     "output_type": "execute_result"
    }
   ],
   "source": [
    "ab_data = ab_test_groups.merge(payments, on = 'user_id', how = 'left')\n",
    "ab_data.head()"
   ]
  },
  {
   "cell_type": "markdown",
   "metadata": {},
   "source": [
    "Аггрегируем данные в отдельный датафрейм."
   ]
  },
  {
   "cell_type": "code",
   "execution_count": 8,
   "metadata": {
    "scrolled": true
   },
   "outputs": [
    {
     "data": {
      "text/html": [
       "<div>\n",
       "<style scoped>\n",
       "    .dataframe tbody tr th:only-of-type {\n",
       "        vertical-align: middle;\n",
       "    }\n",
       "\n",
       "    .dataframe tbody tr th {\n",
       "        vertical-align: top;\n",
       "    }\n",
       "\n",
       "    .dataframe thead th {\n",
       "        text-align: right;\n",
       "    }\n",
       "</style>\n",
       "<table border=\"1\" class=\"dataframe\">\n",
       "  <thead>\n",
       "    <tr style=\"text-align: right;\">\n",
       "      <th></th>\n",
       "      <th>users_count</th>\n",
       "      <th>buyers_count</th>\n",
       "    </tr>\n",
       "    <tr>\n",
       "      <th>grp</th>\n",
       "      <th></th>\n",
       "      <th></th>\n",
       "    </tr>\n",
       "  </thead>\n",
       "  <tbody>\n",
       "    <tr>\n",
       "      <th>A</th>\n",
       "      <td>76605</td>\n",
       "      <td>4279</td>\n",
       "    </tr>\n",
       "    <tr>\n",
       "      <th>B</th>\n",
       "      <td>76627</td>\n",
       "      <td>9427</td>\n",
       "    </tr>\n",
       "  </tbody>\n",
       "</table>\n",
       "</div>"
      ],
      "text/plain": [
       "     users_count  buyers_count\n",
       "grp                           \n",
       "A          76605          4279\n",
       "B          76627          9427"
      ]
     },
     "execution_count": 8,
     "metadata": {},
     "output_type": "execute_result"
    }
   ],
   "source": [
    "ab_summary = ab_data.groupby('grp').agg({'user_id':'count', 'price':'count'}) #Агрегация данных\n",
    "ab_summary.rename(columns={'user_id':'users_count', 'price':'buyers_count'}, inplace = True) #Переименовывание столбцов\n",
    "ab_summary"
   ]
  },
  {
   "cell_type": "markdown",
   "metadata": {},
   "source": [
    "Уже по таблице ясно, что разделение пользователей 50/50, однако посмотрим на точную цифру пропорции."
   ]
  },
  {
   "cell_type": "code",
   "execution_count": 9,
   "metadata": {
    "scrolled": true
   },
   "outputs": [
    {
     "data": {
      "text/plain": [
       "0.4999282134280046"
      ]
     },
     "execution_count": 9,
     "metadata": {},
     "output_type": "execute_result"
    }
   ],
   "source": [
    "ab_summary.loc[ab_summary.index == 'A', 'users_count'].sum()/ab_summary.users_count.sum()"
   ]
  },
  {
   "cell_type": "markdown",
   "metadata": {},
   "source": [
    "Добавляем колонку с конверсией."
   ]
  },
  {
   "cell_type": "code",
   "execution_count": 10,
   "metadata": {},
   "outputs": [
    {
     "data": {
      "text/html": [
       "<div>\n",
       "<style scoped>\n",
       "    .dataframe tbody tr th:only-of-type {\n",
       "        vertical-align: middle;\n",
       "    }\n",
       "\n",
       "    .dataframe tbody tr th {\n",
       "        vertical-align: top;\n",
       "    }\n",
       "\n",
       "    .dataframe thead th {\n",
       "        text-align: right;\n",
       "    }\n",
       "</style>\n",
       "<table border=\"1\" class=\"dataframe\">\n",
       "  <thead>\n",
       "    <tr style=\"text-align: right;\">\n",
       "      <th></th>\n",
       "      <th>users_count</th>\n",
       "      <th>buyers_count</th>\n",
       "      <th>conversion</th>\n",
       "    </tr>\n",
       "    <tr>\n",
       "      <th>grp</th>\n",
       "      <th></th>\n",
       "      <th></th>\n",
       "      <th></th>\n",
       "    </tr>\n",
       "  </thead>\n",
       "  <tbody>\n",
       "    <tr>\n",
       "      <th>A</th>\n",
       "      <td>76605</td>\n",
       "      <td>4279</td>\n",
       "      <td>0.055858</td>\n",
       "    </tr>\n",
       "    <tr>\n",
       "      <th>B</th>\n",
       "      <td>76627</td>\n",
       "      <td>9427</td>\n",
       "      <td>0.123025</td>\n",
       "    </tr>\n",
       "  </tbody>\n",
       "</table>\n",
       "</div>"
      ],
      "text/plain": [
       "     users_count  buyers_count  conversion\n",
       "grp                                       \n",
       "A          76605          4279    0.055858\n",
       "B          76627          9427    0.123025"
      ]
     },
     "execution_count": 10,
     "metadata": {},
     "output_type": "execute_result"
    }
   ],
   "source": [
    "ab_summary['conversion'] = ab_summary.buyers_count/ab_summary.users_count\n",
    "ab_summary"
   ]
  },
  {
   "cell_type": "markdown",
   "metadata": {},
   "source": [
    "Также посчитаем средний чек покупки в каждой группе."
   ]
  },
  {
   "cell_type": "code",
   "execution_count": 11,
   "metadata": {
    "scrolled": false
   },
   "outputs": [
    {
     "data": {
      "text/html": [
       "<div>\n",
       "<style scoped>\n",
       "    .dataframe tbody tr th:only-of-type {\n",
       "        vertical-align: middle;\n",
       "    }\n",
       "\n",
       "    .dataframe tbody tr th {\n",
       "        vertical-align: top;\n",
       "    }\n",
       "\n",
       "    .dataframe thead th {\n",
       "        text-align: right;\n",
       "    }\n",
       "</style>\n",
       "<table border=\"1\" class=\"dataframe\">\n",
       "  <thead>\n",
       "    <tr style=\"text-align: right;\">\n",
       "      <th></th>\n",
       "      <th>users_count</th>\n",
       "      <th>buyers_count</th>\n",
       "      <th>conversion</th>\n",
       "      <th>avg_bill</th>\n",
       "    </tr>\n",
       "    <tr>\n",
       "      <th>grp</th>\n",
       "      <th></th>\n",
       "      <th></th>\n",
       "      <th></th>\n",
       "      <th></th>\n",
       "    </tr>\n",
       "  </thead>\n",
       "  <tbody>\n",
       "    <tr>\n",
       "      <th>A</th>\n",
       "      <td>76605</td>\n",
       "      <td>4279</td>\n",
       "      <td>0.055858</td>\n",
       "      <td>396.120589</td>\n",
       "    </tr>\n",
       "    <tr>\n",
       "      <th>B</th>\n",
       "      <td>76627</td>\n",
       "      <td>9427</td>\n",
       "      <td>0.123025</td>\n",
       "      <td>348.804498</td>\n",
       "    </tr>\n",
       "  </tbody>\n",
       "</table>\n",
       "</div>"
      ],
      "text/plain": [
       "     users_count  buyers_count  conversion    avg_bill\n",
       "grp                                                   \n",
       "A          76605          4279    0.055858  396.120589\n",
       "B          76627          9427    0.123025  348.804498"
      ]
     },
     "execution_count": 11,
     "metadata": {},
     "output_type": "execute_result"
    }
   ],
   "source": [
    "ab_summary = ab_summary.merge(ab_data.groupby('grp').agg({'price':'mean'}).rename(columns = {'price':'avg_bill'}), \n",
    "                 left_index = True, right_index = True) #Сделали агрегацию и прикрепили её к ab_summary\n",
    "ab_summary"
   ]
  },
  {
   "cell_type": "markdown",
   "metadata": {},
   "source": [
    "Посчитаем ARPU и дополнительную выручку"
   ]
  },
  {
   "cell_type": "code",
   "execution_count": 12,
   "metadata": {
    "scrolled": true
   },
   "outputs": [
    {
     "data": {
      "text/html": [
       "<div>\n",
       "<style scoped>\n",
       "    .dataframe tbody tr th:only-of-type {\n",
       "        vertical-align: middle;\n",
       "    }\n",
       "\n",
       "    .dataframe tbody tr th {\n",
       "        vertical-align: top;\n",
       "    }\n",
       "\n",
       "    .dataframe thead th {\n",
       "        text-align: right;\n",
       "    }\n",
       "</style>\n",
       "<table border=\"1\" class=\"dataframe\">\n",
       "  <thead>\n",
       "    <tr style=\"text-align: right;\">\n",
       "      <th></th>\n",
       "      <th>users_count</th>\n",
       "      <th>buyers_count</th>\n",
       "      <th>conversion</th>\n",
       "      <th>avg_bill</th>\n",
       "      <th>revenue</th>\n",
       "      <th>ARPU</th>\n",
       "      <th>Доп. выручка</th>\n",
       "    </tr>\n",
       "    <tr>\n",
       "      <th>grp</th>\n",
       "      <th></th>\n",
       "      <th></th>\n",
       "      <th></th>\n",
       "      <th></th>\n",
       "      <th></th>\n",
       "      <th></th>\n",
       "      <th></th>\n",
       "    </tr>\n",
       "  </thead>\n",
       "  <tbody>\n",
       "    <tr>\n",
       "      <th>A</th>\n",
       "      <td>76605</td>\n",
       "      <td>4279</td>\n",
       "      <td>0.055858</td>\n",
       "      <td>396.120589</td>\n",
       "      <td>1695000.0</td>\n",
       "      <td>22.126493</td>\n",
       "      <td>0.000000e+00</td>\n",
       "    </tr>\n",
       "    <tr>\n",
       "      <th>B</th>\n",
       "      <td>76627</td>\n",
       "      <td>9427</td>\n",
       "      <td>0.123025</td>\n",
       "      <td>348.804498</td>\n",
       "      <td>3288180.0</td>\n",
       "      <td>42.911506</td>\n",
       "      <td>1.592693e+06</td>\n",
       "    </tr>\n",
       "  </tbody>\n",
       "</table>\n",
       "</div>"
      ],
      "text/plain": [
       "     users_count  buyers_count  conversion    avg_bill    revenue       ARPU  \\\n",
       "grp                                                                            \n",
       "A          76605          4279    0.055858  396.120589  1695000.0  22.126493   \n",
       "B          76627          9427    0.123025  348.804498  3288180.0  42.911506   \n",
       "\n",
       "     Доп. выручка  \n",
       "grp                \n",
       "A    0.000000e+00  \n",
       "B    1.592693e+06  "
      ]
     },
     "execution_count": 12,
     "metadata": {},
     "output_type": "execute_result"
    }
   ],
   "source": [
    "ab_summary = ab_summary.merge(ab_data.groupby('grp').agg({'price':'sum'}).rename(columns = {'price':'revenue'}), \n",
    "                 left_index = True, right_index = True) # Сделали агрегацию и прикрепили её к ab_summary\n",
    "ab_summary['ARPU'] = ab_summary.revenue/ab_summary.users_count\n",
    "ab_summary['Доп. выручка'] = ab_summary.users_count*(ab_summary.ARPU - ab_summary.loc['A', 'ARPU'])\n",
    "ab_summary"
   ]
  },
  {
   "cell_type": "code",
   "execution_count": 13,
   "metadata": {
    "scrolled": true
   },
   "outputs": [
    {
     "name": "stdout",
     "output_type": "stream",
     "text": [
      "Дополнительная выручка в группе В: 1592693.0\n",
      "Разница в ARPU между группами А и В: 20.785013339331144\n"
     ]
    }
   ],
   "source": [
    "print(f\"Дополнительная выручка в группе В: {ab_summary['Доп. выручка']['B'].round()}\")\n",
    "print(f\"Разница в ARPU между группами А и В: {ab_summary.ARPU.B - ab_summary.ARPU.A}\")"
   ]
  },
  {
   "cell_type": "markdown",
   "metadata": {},
   "source": [
    "Итак, рассчитаем значимость изменения конверсии.\n",
    "\n",
    "Конверсия — бинарная величина (пользователь либо купил, либо нет), поэтому для подсчёта значимости нужно использовать Z-тест."
   ]
  },
  {
   "cell_type": "code",
   "execution_count": 14,
   "metadata": {
    "scrolled": true
   },
   "outputs": [
    {
     "name": "stdout",
     "output_type": "stream",
     "text": [
      "Z-stat: -46.38627328408593\n",
      "p-value: 0.0\n"
     ]
    }
   ],
   "source": [
    "z = ztest(ab_data.loc[ab_data.grp == 'A', 'price'].apply(lambda x: 1 if pd.notnull(x) else 0),#Конверсии пользователей группы А\n",
    "     ab_data.loc[ab_data.grp == 'B', 'price'].apply(lambda x: 1 if pd.notnull(x) else 0) #Конверсии пользователей группы B\n",
    "     ) \n",
    "print(f\"Z-stat: {z[0]}\\np-value: {z[1]}\")"
   ]
  },
  {
   "cell_type": "markdown",
   "metadata": {},
   "source": [
    "Нам нужно как раз p-значение, которое в данном случае равно нулю, что позволяет говорить о фактическом улучшении конверсии."
   ]
  },
  {
   "cell_type": "markdown",
   "metadata": {},
   "source": [
    "У нас ограниченное количество цен на подписки, поэтому очевидно, что показатели распределены ненормально. Давайте визуализируем этот факт и проверим его истинность с помощью статистического теста Шапиро-Вилка для распределения средних чеков и покупок."
   ]
  },
  {
   "cell_type": "code",
   "execution_count": 15,
   "metadata": {},
   "outputs": [
    {
     "data": {
      "image/png": "[encoded data removed]",
      "text/plain": [
       "<Figure size 432x288 with 1 Axes>"
      ]
     },
     "metadata": {
      "needs_background": "light"
     },
     "output_type": "display_data"
    },
    {
     "name": "stdout",
     "output_type": "stream",
     "text": [
      "Shapiro-Wilk p-value is 0.0\n"
     ]
    },
    {
     "data": {
      "image/png": "[encoded data removed]",
      "text/plain": [
       "<Figure size 432x288 with 1 Axes>"
      ]
     },
     "metadata": {
      "needs_background": "light"
     },
     "output_type": "display_data"
    },
    {
     "name": "stdout",
     "output_type": "stream",
     "text": [
      "Shapiro-Wilk p-value is 0.0\n"
     ]
    },
    {
     "name": "stderr",
     "output_type": "stream",
     "text": [
      "D:\\anaconda3\\lib\\site-packages\\scipy\\stats\\morestats.py:1681: UserWarning: p-value may not be accurate for N > 5000.\n",
      "  warnings.warn(\"p-value may not be accurate for N > 5000.\")\n"
     ]
    }
   ],
   "source": [
    "ax = plt.subplot()\n",
    "ab_data.loc[ab_data.grp == 'A', 'price'].dropna().hist()\n",
    "ax.set_xlabel('Чек, руб')\n",
    "ax.set_ylabel('Количество пользователей')\n",
    "ax.set_title('Гистограмма распределения чеков на платящих пользователей')\n",
    "plt.show()\n",
    "print('Shapiro-Wilk p-value is', stats.shapiro(ab_data.loc[ab_data.grp == 'A', 'price'].dropna())[1])\n",
    "\n",
    "ax = plt.subplot()\n",
    "ab_data.loc[ab_data.grp == 'A', 'price'].fillna(0).hist()\n",
    "ax.set_xlabel('Выручка, руб')\n",
    "ax.set_ylabel('Количество пользователей')\n",
    "ax.set_title('Гистограмма распределения выручки на пользователей')\n",
    "plt.show()\n",
    "print('Shapiro-Wilk p-value is', stats.shapiro(ab_data.loc[ab_data.grp == 'A', 'price'].fillna(0))[1])"
   ]
  },
  {
   "cell_type": "markdown",
   "metadata": {},
   "source": [
    "И визуальный анализ, и тест Шапиро-Вилка на нормальность говорят нам, что распределение не является нормальным."
   ]
  },
  {
   "cell_type": "markdown",
   "metadata": {},
   "source": [
    "Так как распределения признаков не бинарные (0-1) и не нормальные, нужно использовать для сравнения средних не только T-тест, но и непараметрический U-тест Манна-Уитни.\n",
    "\n",
    "Зачем это нужно?\n",
    "\n",
    "U-тест сообщит нам, различаются ли сами распределения, а T-тест покажет, различаются ли средние этих распределений. При сравнении средних величин (например, ARPU) обычно важнее показатель p-значение для Т-теста: если он меньше 0,05, а p-значение теста Манна-Уитни больше 0,05, то это всё равно говорит о значимых различиях показателей."
   ]
  },
  {
   "cell_type": "code",
   "execution_count": 16,
   "metadata": {},
   "outputs": [
    {
     "name": "stdout",
     "output_type": "stream",
     "text": [
      "MannwhitneyuResult(statistic=11353450.0, pvalue=0.0)\n",
      "Ttest_indResult(statistic=8.681488291725874, pvalue=4.342920451712972e-18)\n"
     ]
    }
   ],
   "source": [
    "print(stats.mannwhitneyu(ab_data.loc[ab_data.grp == 'A', 'price'].dropna(), ab_data.loc[ab_data.grp == 'B', 'price'].dropna()),\n",
    "stats.ttest_ind(ab_data.loc[ab_data.grp == 'A', 'price'].dropna(), ab_data.loc[ab_data.grp == 'B', 'price'].dropna())\n",
    "      , sep = '\\n')"
   ]
  },
  {
   "cell_type": "markdown",
   "metadata": {},
   "source": [
    "Как мы видим, средние чеки также значимо различаются (так как p-значение << 0.05, близки или равны нулю) по каждому из тестов."
   ]
  },
  {
   "cell_type": "code",
   "execution_count": 17,
   "metadata": {},
   "outputs": [
    {
     "name": "stdout",
     "output_type": "stream",
     "text": [
      "MannwhitneyuResult(statistic=2746687083.0, pvalue=0.0)\n",
      "Ttest_indResult(statistic=-29.893345238870868, pvalue=8.818064407002295e-196)\n"
     ]
    }
   ],
   "source": [
    "print(stats.mannwhitneyu(ab_data.loc[ab_data.grp == 'A', 'price'].fillna(0), ab_data.loc[ab_data.grp == 'B', 'price'].fillna(0)),\n",
    "      stats.ttest_ind(ab_data.loc[ab_data.grp == 'A', 'price'].fillna(0), ab_data.loc[ab_data.grp == 'B', 'price'].fillna(0)),\n",
    "     sep = '\\n')"
   ]
  },
  {
   "cell_type": "markdown",
   "metadata": {},
   "source": [
    "С ARPU ситуация еще более ясная. Оба теста однозначно говорят, что распределения разные."
   ]
  },
  {
   "cell_type": "code",
   "execution_count": 18,
   "metadata": {},
   "outputs": [],
   "source": [
    "#Важные функции для получения доверительных интервалов\n",
    "def get_conf_interval(data, conf_level = 0.95):  \n",
    "# Считает доверительные интервалы для средних\n",
    "        buf = (stats.t.interval(conf_level, len(data),\n",
    "                             loc=np.mean(data), scale=stats.sem(data)))\n",
    "        return (buf[1] - buf[0])/2\n",
    "    \n",
    "def get_conf_interval_z(succ, tot):  \n",
    "#Считает доверительные интервалы для бинарных величин\n",
    "    buf = proportion_confint(succ, tot)\n",
    "    return buf[1] - buf[0]"
   ]
  },
  {
   "cell_type": "code",
   "execution_count": 19,
   "metadata": {},
   "outputs": [
    {
     "data": {
      "text/plain": [
       "0.8641428736438357"
      ]
     },
     "execution_count": 19,
     "metadata": {},
     "output_type": "execute_result"
    }
   ],
   "source": [
    "get_conf_interval(ab_data.loc[ab_data.grp == 'A', 'price'].fillna(0)) \n",
    "#Доверительный полуинтервал для ARPU пользователей в группе А"
   ]
  },
  {
   "cell_type": "code",
   "execution_count": 20,
   "metadata": {},
   "outputs": [
    {
     "data": {
      "text/plain": [
       "{'ARPU': {'A': 0.8641428736438357, 'B': 1.0537383983825563},\n",
       " 'conversion': {'A': 0.0032524511174824022, 'B': 0.004651325604805509},\n",
       " 'avg_bill': {'A': 10.315428393735829, 'B': 5.467446406040892}}"
      ]
     },
     "execution_count": 20,
     "metadata": {},
     "output_type": "execute_result"
    }
   ],
   "source": [
    "#Составляем словарь с доверительными интервалами для каждой метрики и для каждой группы\n",
    "conf_intervals = {'ARPU':{'A':get_conf_interval(ab_data.loc[ab_data.grp == 'A', 'price'].fillna(0)),\n",
    "                          'B':get_conf_interval(ab_data.loc[ab_data.grp == 'B', 'price'].fillna(0))},\n",
    "                  'conversion':{'A':get_conf_interval_z(ab_data.loc[ab_data.grp == 'A', 'price'].dropna().count(),\n",
    "                                                        ab_data.loc[ab_data.grp == 'A', 'user_id'].count()),\n",
    "                               'B':get_conf_interval_z(ab_data.loc[ab_data.grp == 'B', 'price'].dropna().count(),\n",
    "                                                        ab_data.loc[ab_data.grp == 'B', 'user_id'].count())},\n",
    "                  'avg_bill':{'A':get_conf_interval(ab_data.loc[ab_data.grp == 'A', 'price'].dropna()),\n",
    "                          'B':get_conf_interval(ab_data.loc[ab_data.grp == 'B', 'price'].dropna())}\n",
    "                 }\n",
    "conf_intervals"
   ]
  },
  {
   "cell_type": "code",
   "execution_count": 21,
   "metadata": {},
   "outputs": [],
   "source": [
    "#Удобная функция для подстановки подписей на barplot\n",
    "def set_labels(axes):  \n",
    "#Расставляет подписи столбцов на барплоты\n",
    "    y0, y1 = axes.get_ybound()  \n",
    "#Размер графика по оси Y\n",
    "    y_shift = 0.15* (y1 - y0)  \n",
    "#Дополнительное место под надписи\n",
    "\n",
    "    for i, rect in enumerate(axes.patches):  \n",
    "#По всем нарисованным прямоугольникам\n",
    "        height = rect.get_height()\n",
    "        if abs(height) <= 10000:\n",
    "            label = str(round(height, 2))\n",
    "            if label[-1] == '0':\n",
    "                label = label[:-1]\n",
    "        elif abs(height) <= 1000000:\n",
    "            label = str(round(height/1000, 1))\n",
    "            if label[-1] == '0':\n",
    "                label = label[:-1] + 'k'\n",
    "            else:\n",
    "                label = label + 'k'\n",
    "        else:\n",
    "            label = str(round(height/1000000, 2))\n",
    "            if label[-1] == '0':\n",
    "                label = label[:-1] + 'm'\n",
    "            else:\n",
    "                label = label + 'm'\n",
    "        x = rect.get_x() + rect.get_width() / 2  \n",
    "#Посередине прямоугольника\n",
    "        y = height + y_shift * 0.8  \n",
    "#Над прямоугольником в середине доп. места\n",
    "        if height < 0:\n",
    "            y = y_shift * 0.8 \n",
    "        axes.text(x, y, label, ha='center', va='center', alpha = 0.7)\n",
    "        axes.set_ybound(y0, y1 + 1.5*y_shift)"
   ]
  },
  {
   "cell_type": "code",
   "execution_count": 22,
   "metadata": {},
   "outputs": [],
   "source": [
    "plot_summary = ab_summary.T \n",
    "#Транспонированная таблица для удобства использования\n",
    "significant_changes = ['conversion', 'avg_bill'] \n",
    "#Метрики со статзначимыми различиями"
   ]
  },
  {
   "cell_type": "code",
   "execution_count": 23,
   "metadata": {},
   "outputs": [
    {
     "data": {
      "image/png": "[encoded data removed]",
      "text/plain": [
       "<Figure size 1008x288 with 7 Axes>"
      ]
     },
     "metadata": {
      "needs_background": "light"
     },
     "output_type": "display_data"
    }
   ],
   "source": [
    "from matplotlib import gridspec\n",
    "from math import ceil\n",
    "\n",
    "ax = []\n",
    "#Массив для складирования графиков\n",
    "n_pict_in_line = 4\n",
    "#Количество картинок в одной линии\n",
    "\n",
    "gs = gridspec.GridSpec(ceil(len(plot_summary) / float(n_pict_in_line)), n_pict_in_line)\n",
    "#Создаём сетку для графиков\n",
    "fig = plt.figure(figsize=(n_pict_in_line*3 + 2,\n",
    "                          ceil(len(plot_summary) / n_pict_in_line) * 2))\n",
    "\n",
    "##Считаем изменение метрики в процентах\n",
    "delta_percent = {}\n",
    "for row in plot_summary.index:  \n",
    "    if 'users_count' != row and 'buyers_count' != row and 'revenue' != row and \"Доп. выручка\" != row:\n",
    "        delta_percent[row] = '(' + str(round(plot_summary.loc[row, :].max()/\\\n",
    "                                  plot_summary.loc[row, :].min()*100 - 100, 1)) + '%)'\n",
    "        \n",
    "fig.suptitle('Результаты АБ-теста со скидками от 5 августа 2019 до 11 августа 2019')\n",
    "\n",
    "##Строим графики\n",
    "for i, col in enumerate(plot_summary.index):\n",
    "    ax.append(plt.subplot(gs[i // n_pict_in_line, i % n_pict_in_line]))\n",
    "#Добавляем subplot в нужную клетку\n",
    "    plot_summary.loc[[col], :].plot(kind='bar', rot=0, ax=ax[i], alpha=0.8,\n",
    "#Строим график в нужной клетке\n",
    "                                   yerr=conf_intervals[col] if col in conf_intervals else 0) \n",
    "    \n",
    "   \n",
    "#Редактируем подпись к графику, чтобы в ней хранилась информация о значимости различий \n",
    "    stars = ' * ' if col in significant_changes else '' \n",
    "    ticks = ax[-1].get_xticklabels()\n",
    "    ticks[0] = col + stars + delta_percent[col] if col in delta_percent else col + stars\n",
    "    ax[-1].set_xticklabels(ticks)\n",
    "    ax[-1].set_yticks([])\n",
    "    set_labels(axes=ax[i])"
   ]
  },
  {
   "cell_type": "code",
   "execution_count": 24,
   "metadata": {},
   "outputs": [
    {
     "data": {
      "text/html": [
       "<div>\n",
       "<style scoped>\n",
       "    .dataframe tbody tr th:only-of-type {\n",
       "        vertical-align: middle;\n",
       "    }\n",
       "\n",
       "    .dataframe tbody tr th {\n",
       "        vertical-align: top;\n",
       "    }\n",
       "\n",
       "    .dataframe thead th {\n",
       "        text-align: right;\n",
       "    }\n",
       "</style>\n",
       "<table border=\"1\" class=\"dataframe\">\n",
       "  <thead>\n",
       "    <tr style=\"text-align: right;\">\n",
       "      <th></th>\n",
       "      <th>users_count</th>\n",
       "      <th>buyers_count</th>\n",
       "      <th>conversion</th>\n",
       "      <th>avg_bill</th>\n",
       "      <th>revenue</th>\n",
       "      <th>ARPU</th>\n",
       "      <th>Доп. выручка</th>\n",
       "    </tr>\n",
       "    <tr>\n",
       "      <th>grp</th>\n",
       "      <th></th>\n",
       "      <th></th>\n",
       "      <th></th>\n",
       "      <th></th>\n",
       "      <th></th>\n",
       "      <th></th>\n",
       "      <th></th>\n",
       "    </tr>\n",
       "  </thead>\n",
       "  <tbody>\n",
       "    <tr>\n",
       "      <th>A</th>\n",
       "      <td>76605</td>\n",
       "      <td>4279</td>\n",
       "      <td>0.055858</td>\n",
       "      <td>396.12</td>\n",
       "      <td>1695000.0</td>\n",
       "      <td>22.13</td>\n",
       "      <td>0.00</td>\n",
       "    </tr>\n",
       "    <tr>\n",
       "      <th>B</th>\n",
       "      <td>76627</td>\n",
       "      <td>9427</td>\n",
       "      <td>0.123025</td>\n",
       "      <td>348.80</td>\n",
       "      <td>3288180.0</td>\n",
       "      <td>42.91</td>\n",
       "      <td>1592693.22</td>\n",
       "    </tr>\n",
       "  </tbody>\n",
       "</table>\n",
       "</div>"
      ],
      "text/plain": [
       "     users_count  buyers_count  conversion  avg_bill    revenue   ARPU  \\\n",
       "grp                                                                      \n",
       "A          76605          4279    0.055858    396.12  1695000.0  22.13   \n",
       "B          76627          9427    0.123025    348.80  3288180.0  42.91   \n",
       "\n",
       "     Доп. выручка  \n",
       "grp                \n",
       "A            0.00  \n",
       "B      1592693.22  "
      ]
     },
     "execution_count": 24,
     "metadata": {},
     "output_type": "execute_result"
    }
   ],
   "source": [
    "ab_summary[['avg_bill','revenue','ARPU','Доп. выручка']] = ab_summary[['avg_bill','revenue','ARPU','Доп. выручка']].round(2)\n",
    "ab_summary"
   ]
  },
  {
   "cell_type": "code",
   "execution_count": 25,
   "metadata": {},
   "outputs": [
    {
     "name": "stdout",
     "output_type": "stream",
     "text": [
      "Конверсия группы А: 0.056\n",
      "Конверсия группы В: 0.123 (+120.25%)\n",
      "\n",
      "Средний чек группы А: 396.12\n",
      "Средний чек группы B: 348.8 (-13.57%)\n",
      "\n",
      "ARPU группы А: 22.13\n",
      "ARPU группы B: 42.91 (+93.90%)\n"
     ]
    }
   ],
   "source": [
    "print(f\"Конверсия группы А: {ab_summary.conversion.A.round(3)}\\nКонверсия группы В: {ab_summary.conversion.B.round(3)} ({(ab_summary.conversion.B - ab_summary.conversion.A)/ab_summary.conversion.A:+.2%})\\n\")\n",
    "print(f\"Средний чек группы А: {ab_summary.avg_bill.A}\\nСредний чек группы B: {ab_summary.avg_bill.B} ({(ab_summary.avg_bill.B - ab_summary.avg_bill.A) / ab_summary.avg_bill.B:+.2%})\\n\")\n",
    "print(f\"ARPU группы А: {ab_summary.ARPU.A}\\nARPU группы B: {ab_summary.ARPU.B} ({(ab_summary.ARPU.B - ab_summary.ARPU.A) / ab_summary.ARPU.A:+.2%})\")"
   ]
  },
  {
   "cell_type": "markdown",
   "metadata": {},
   "source": [
    "# Выводы  \n",
    "\n",
    "*Группа А - пользователи со стандартными условиями. Группа В - пользователи, получившие скидку 30%.* *Распределение пользователей в группах 50/50* \n",
    "\n",
    "Показатель | Группа А | Группа В | Изменение\n",
    "---|---|---|---\n",
    "Конверсия | 0.056 | 0.123 | +120%\n",
    "Средний чек | 396.12 | 348.80 | -13.6%\n",
    "ARPU | 22.13 | 42.91 | +94%\n",
    "Дополнительная выручка | 0 | 1,592,693.00 |\n",
    "\n",
    "- Тест значимо **увеличил конверсию на 120%**\n",
    "- Несмотря на то что скидка в группе Б составляет 30%, средний чек упал на ~13,6%.\n",
    "- Тест значимо **увеличил ARPU на 94%**\n",
    "- **Дополнительная выручка** от проведенного теста составила **1,592,693.00**\n",
    "- **Скидки способствуют** мгновенному **увеличению выручки**, поэтому их можно проводить время от времени."
   ]
  }
 ],
 "metadata": {
  "kernelspec": {
   "display_name": "Python 3",
   "language": "python",
   "name": "python3"
  },
  "language_info": {
   "codemirror_mode": {
    "name": "ipython",
    "version": 3
   },
   "file_extension": ".py",
   "mimetype": "text/x-python",
   "name": "python",
   "nbconvert_exporter": "python",
   "pygments_lexer": "ipython3",
   "version": "3.8.5"
  }
 },
 "nbformat": 4,
 "nbformat_minor": 4
}
