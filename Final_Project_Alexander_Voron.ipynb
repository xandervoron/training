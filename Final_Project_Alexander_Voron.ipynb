{
 "cells": [
  {
   "cell_type": "markdown",
   "metadata": {},
   "source": [
    "# Финальный проект курса \"Аналитика данных\"\n",
    "### Платформа: [SkillFactory](https://skillfactory.ru), Курс: SDA-37, Студент: Ворон Александр\n",
    "-----\n",
    "## На обучающей платформе запускают новую фичу - рекомендация курсов, которые могут заинтересовать при покупке интересующего курса.\n",
    "### Задачи:\n",
    "1. **Построить рекомендательную систему**, благодаря которой можно будет предлагать клиентам интересные им курсы. Для этого потребуется подготовить и проанализировать имеющиеся данные.\n",
    "2. **Составить итоговую таблицу с рекомендациями**, снабдив её необходимыми комментариями, и представить  продакт-менеджеру.\n",
    "3. **Проанализировать результаты А/Б-теста**, проведённого после внедрения фичи, сделать вывод."
   ]
  },
  {
   "cell_type": "code",
   "execution_count": 1,
   "metadata": {},
   "outputs": [],
   "source": [
    "from psycopg2 import connect\n",
    "import pandas as pd\n",
    "from itertools import combinations\n",
    "from itertools import chain\n",
    "import numpy as np"
   ]
  },
  {
   "cell_type": "code",
   "execution_count": 2,
   "metadata": {
    "scrolled": true
   },
   "outputs": [
    {
     "data": {
      "text/html": [
       "<div>\n",
       "<style scoped>\n",
       "    .dataframe tbody tr th:only-of-type {\n",
       "        vertical-align: middle;\n",
       "    }\n",
       "\n",
       "    .dataframe tbody tr th {\n",
       "        vertical-align: top;\n",
       "    }\n",
       "\n",
       "    .dataframe thead th {\n",
       "        text-align: right;\n",
       "    }\n",
       "</style>\n",
       "<table border=\"1\" class=\"dataframe\">\n",
       "  <thead>\n",
       "    <tr style=\"text-align: right;\">\n",
       "      <th></th>\n",
       "      <th>user_id</th>\n",
       "      <th>resource_id</th>\n",
       "    </tr>\n",
       "  </thead>\n",
       "  <tbody>\n",
       "    <tr>\n",
       "      <th>0</th>\n",
       "      <td>1010882</td>\n",
       "      <td>490</td>\n",
       "    </tr>\n",
       "    <tr>\n",
       "      <th>1</th>\n",
       "      <td>906674</td>\n",
       "      <td>357</td>\n",
       "    </tr>\n",
       "    <tr>\n",
       "      <th>2</th>\n",
       "      <td>160494</td>\n",
       "      <td>507</td>\n",
       "    </tr>\n",
       "    <tr>\n",
       "      <th>3</th>\n",
       "      <td>1084654</td>\n",
       "      <td>514</td>\n",
       "    </tr>\n",
       "    <tr>\n",
       "      <th>4</th>\n",
       "      <td>749529</td>\n",
       "      <td>489</td>\n",
       "    </tr>\n",
       "  </tbody>\n",
       "</table>\n",
       "</div>"
      ],
      "text/plain": [
       "   user_id  resource_id\n",
       "0  1010882          490\n",
       "1   906674          357\n",
       "2   160494          507\n",
       "3  1084654          514\n",
       "4   749529          489"
      ]
     },
     "execution_count": 2,
     "metadata": {},
     "output_type": "execute_result"
    }
   ],
   "source": [
    "conn = connect(dbname='skillfactory', \n",
    "                user='skillfactory', \n",
    "                password='cCkxxLVrDE8EbvjueeMedPKt', \n",
    "                host='84.201.134.129',\n",
    "                port='5432')\n",
    "cursor = conn.cursor()\n",
    "\n",
    "sql = \"select user_id, resource_id from final.carts c left join final.cart_items ci on ci.cart_id = c.id where state = 'successful' and resource_type = 'Course'\"\n",
    "df = pd.io.sql.read_sql_query(sql, conn)\n",
    "\n",
    "cursor.close()\n",
    "conn.close()\n",
    "\n",
    "df.head()"
   ]
  },
  {
   "cell_type": "markdown",
   "metadata": {},
   "source": [
    "Теперь у нас есть датафрейм с ID покупателей и ID курсов, которые они покупают.\n",
    "Посмотрим, сколько у нас всего покупателей, сколько из них купили более одного курса."
   ]
  },
  {
   "cell_type": "code",
   "execution_count": 3,
   "metadata": {},
   "outputs": [
    {
     "name": "stdout",
     "output_type": "stream",
     "text": [
      "Total buyers: 49006\n",
      "2+ courses: 12656\n"
     ]
    }
   ],
   "source": [
    "df_unique_buyers = df.groupby('user_id').nunique().reset_index()\n",
    "df_multicourse_buyers = df_unique_buyers[df_unique_buyers.resource_id>1]\n",
    "print('Total buyers:',df_unique_buyers.shape[0])\n",
    "print('2+ courses:',df_multicourse_buyers.shape[0])"
   ]
  },
  {
   "cell_type": "markdown",
   "metadata": {},
   "source": [
    "Создаем датафрейм с унакальными ID покупателей, в чьей корзине оказалось 2 и более курсов, а также кортежи ID самих курсов."
   ]
  },
  {
   "cell_type": "code",
   "execution_count": 4,
   "metadata": {
    "scrolled": true
   },
   "outputs": [
    {
     "data": {
      "text/html": [
       "<div>\n",
       "<style scoped>\n",
       "    .dataframe tbody tr th:only-of-type {\n",
       "        vertical-align: middle;\n",
       "    }\n",
       "\n",
       "    .dataframe tbody tr th {\n",
       "        vertical-align: top;\n",
       "    }\n",
       "\n",
       "    .dataframe thead th {\n",
       "        text-align: right;\n",
       "    }\n",
       "</style>\n",
       "<table border=\"1\" class=\"dataframe\">\n",
       "  <thead>\n",
       "    <tr style=\"text-align: right;\">\n",
       "      <th></th>\n",
       "      <th>user_id</th>\n",
       "      <th>resource_id</th>\n",
       "    </tr>\n",
       "  </thead>\n",
       "  <tbody>\n",
       "    <tr>\n",
       "      <th>0</th>\n",
       "      <td>51</td>\n",
       "      <td>(516, 1099)</td>\n",
       "    </tr>\n",
       "    <tr>\n",
       "      <th>1</th>\n",
       "      <td>6117</td>\n",
       "      <td>(356, 357, 1125)</td>\n",
       "    </tr>\n",
       "    <tr>\n",
       "      <th>2</th>\n",
       "      <td>10275</td>\n",
       "      <td>(553, 1147)</td>\n",
       "    </tr>\n",
       "    <tr>\n",
       "      <th>3</th>\n",
       "      <td>10457</td>\n",
       "      <td>(361, 1138)</td>\n",
       "    </tr>\n",
       "    <tr>\n",
       "      <th>4</th>\n",
       "      <td>17166</td>\n",
       "      <td>(356, 357)</td>\n",
       "    </tr>\n",
       "  </tbody>\n",
       "</table>\n",
       "</div>"
      ],
      "text/plain": [
       "   user_id       resource_id\n",
       "0       51       (516, 1099)\n",
       "1     6117  (356, 357, 1125)\n",
       "2    10275       (553, 1147)\n",
       "3    10457       (361, 1138)\n",
       "4    17166        (356, 357)"
      ]
     },
     "metadata": {},
     "output_type": "display_data"
    },
    {
     "name": "stdout",
     "output_type": "stream",
     "text": [
      "Total buyers with 2+ courses: 12656\n"
     ]
    }
   ],
   "source": [
    "df_mcid = df.drop_duplicates()\n",
    "df_mcid = df_mcid.groupby('user_id').filter(lambda x: len(x) > 1).sort_values(by=['user_id','resource_id'])\n",
    "df_mcid = df_mcid.groupby('user_id').agg(tuple).reset_index()\n",
    "display(df_mcid.head())\n",
    "print('Total buyers with 2+ courses:',df_mcid.shape[0])"
   ]
  },
  {
   "cell_type": "markdown",
   "metadata": {},
   "source": [
    "Посмотрим на самые популярные пары и посчитаем их общее количество"
   ]
  },
  {
   "cell_type": "code",
   "execution_count": 5,
   "metadata": {},
   "outputs": [
    {
     "data": {
      "text/html": [
       "<div>\n",
       "<style scoped>\n",
       "    .dataframe tbody tr th:only-of-type {\n",
       "        vertical-align: middle;\n",
       "    }\n",
       "\n",
       "    .dataframe tbody tr th {\n",
       "        vertical-align: top;\n",
       "    }\n",
       "\n",
       "    .dataframe thead th {\n",
       "        text-align: right;\n",
       "    }\n",
       "</style>\n",
       "<table border=\"1\" class=\"dataframe\">\n",
       "  <thead>\n",
       "    <tr style=\"text-align: right;\">\n",
       "      <th></th>\n",
       "      <th>pairs</th>\n",
       "      <th>users</th>\n",
       "    </tr>\n",
       "  </thead>\n",
       "  <tbody>\n",
       "    <tr>\n",
       "      <th>0</th>\n",
       "      <td>(551, 566)</td>\n",
       "      <td>797</td>\n",
       "    </tr>\n",
       "    <tr>\n",
       "      <th>1</th>\n",
       "      <td>(515, 551)</td>\n",
       "      <td>417</td>\n",
       "    </tr>\n",
       "    <tr>\n",
       "      <th>2</th>\n",
       "      <td>(489, 551)</td>\n",
       "      <td>311</td>\n",
       "    </tr>\n",
       "    <tr>\n",
       "      <th>3</th>\n",
       "      <td>(523, 551)</td>\n",
       "      <td>304</td>\n",
       "    </tr>\n",
       "    <tr>\n",
       "      <th>4</th>\n",
       "      <td>(566, 794)</td>\n",
       "      <td>290</td>\n",
       "    </tr>\n",
       "  </tbody>\n",
       "</table>\n",
       "</div>"
      ],
      "text/plain": [
       "        pairs  users\n",
       "0  (551, 566)    797\n",
       "1  (515, 551)    417\n",
       "2  (489, 551)    311\n",
       "3  (523, 551)    304\n",
       "4  (566, 794)    290"
      ]
     },
     "metadata": {},
     "output_type": "display_data"
    },
    {
     "name": "stdout",
     "output_type": "stream",
     "text": [
      "Total pairs: 3989\n"
     ]
    }
   ],
   "source": [
    "onehot = pd.get_dummies(df['resource_id'])\\\n",
    "           .set_index(df['user_id']).sum(level=0)\n",
    "\n",
    "cnt = {}\n",
    "for c in combinations(onehot, r=2):\n",
    "    cnt[c] = onehot[[*c]].ge(1).all(1).sum()\n",
    "\n",
    "df_pairs = pd.DataFrame(cnt.items(), columns=['pairs', 'users'])\n",
    "df_pairs = df_pairs[df_pairs['users']>0].sort_values('users', ascending=False).reset_index(drop=True)\n",
    "display(df_pairs.head())\n",
    "print('Total pairs:',df_pairs.shape[0])"
   ]
  },
  {
   "cell_type": "markdown",
   "metadata": {},
   "source": [
    "Также можно пойти более привычным путем - создать список всех уникальных пар, на его основе сделать датафрейм и посчитать количество пользователей с каждой парой.\n",
    "```\n",
    "pair_list = []\n",
    "for i in df_mcid.resource_id:\n",
    "    pair_list.append(list(combinations(i,2)))\n",
    "pair_list = list(set(chain(*pair_list)))\n",
    "print('Unique pairs:',len(pair_list))\n",
    "df_pairs = pd.DataFrame({'pairs':pair_list, 'users':0})\n",
    "df_pairs['users'] = df_pairs['pairs'].map(lambda x: len([y for y in df_mcid['resource_id'].values if set(x).issubset(y)])) # this line is stackoverflow help\n",
    "df_pairs = df_pairs.sort_values('users', ascending=False)\n",
    "display(df_pairs.head())\n",
    "print('Total pairs:',df_pairs.shape[0])\n",
    "```\n",
    "Такой код работает немного дольше, чем использованный в решении.\n",
    "___\n",
    "*Used solution and the part of this one are from [StackOverflow](https://stackoverflow.com/questions/67232424/how-to-make-a-function-for-dataframe-that-checks-if-big-tuple-contains-all-the-e). Thanks to these incredible guys!*"
   ]
  },
  {
   "cell_type": "markdown",
   "metadata": {},
   "source": [
    "Посмотрим, сколько всего есть курсов"
   ]
  },
  {
   "cell_type": "code",
   "execution_count": 6,
   "metadata": {},
   "outputs": [
    {
     "name": "stdout",
     "output_type": "stream",
     "text": [
      "Total courses: 126\n"
     ]
    }
   ],
   "source": [
    "courses = set(df.groupby('resource_id').nunique().index)\n",
    "print('Total courses:',len(courses))"
   ]
  },
  {
   "cell_type": "markdown",
   "metadata": {},
   "source": [
    "Внесем небольшие изменения в наш датафрейм с курсами для удобства и посмотрим, какие пары можно не рассматривать для предложений."
   ]
  },
  {
   "cell_type": "code",
   "execution_count": 7,
   "metadata": {},
   "outputs": [],
   "source": [
    "df_pairs[['1course','2course']] = pd.DataFrame(df_pairs['pairs'].tolist(), index=df_pairs.index)"
   ]
  },
  {
   "cell_type": "code",
   "execution_count": 8,
   "metadata": {},
   "outputs": [
    {
     "name": "stdout",
     "output_type": "stream",
     "text": [
      "1185 пар выбрали 1 или менее пользователей. Среди более популярных пар 111 курсов\n",
      "1763 пар выбрали 2 или менее пользователей. Среди более популярных пар 108 курсов\n",
      "2129 пар выбрали 3 или менее пользователей. Среди более популярных пар 103 курсов\n",
      "2388 пар выбрали 4 или менее пользователей. Среди более популярных пар 95 курсов\n",
      "2590 пар выбрали 5 или менее пользователей. Среди более популярных пар 90 курсов\n",
      "2738 пар выбрали 6 или менее пользователей. Среди более популярных пар 86 курсов\n",
      "2886 пар выбрали 7 или менее пользователей. Среди более популярных пар 86 курсов\n"
     ]
    }
   ],
   "source": [
    "for i in range (1,8):\n",
    "    print(f\"{df_pairs[df_pairs.users.isin(range(1,i+1))].shape[0]} пар выбрали {i} или менее пользователей. Среди более популярных пар {len(set(df_pairs[~df_pairs.users.isin(range(1,i+1))]['1course']) | (set(df_pairs[~df_pairs.users.isin(range(1,i+1))]['1course'])))} курсов\")"
   ]
  },
  {
   "cell_type": "markdown",
   "metadata": {},
   "source": [
    "Для рекомендаций нам понадобится функция, которая будет выбирать самую популярную пару, в которой есть выбранный курс, если такая пара была выбрана хотя бы 4 людьми (эту настройку можно регулировать параметром precision). В противном случае запускается рандомизатор на 30 самых популярных курсов (эту настройку можно регулировать параметром top_courses_limit). Аналогично функция работает для вторичной рекомендации, только для второй по популярности пары.\n",
    "  \n",
    "Таким образом мы отсекаем случайно выбранные и непопулярные курсы, когда человеку интересно попробовать себя в двух совершенно разных областях, комбинация которых может быть больше никому не интересна. Рандомизатор - не идеальное решение, но он будет предлагать более популярные курсы. Если бы были дополнительные данные о курсах по их направлениям и областям, отсечку можно увеличить, но нужно смотреть по категориям насколько. Вероятно, она будет плавающая. Впрочем, это для классифицированных курсов лучше проработать другую систему рекомендаций. Рандом по 40 самым популярным курсам, чтобы дать возможность маловостребованным курсам так же войти в подборку. Можно сделать более узкую настройку на 10 или 20 курсов. Если бы было разделение курсов по категориям, это ограничение можно было бы снять (или оставить для рекомендации более популярных курсов), и добавить рамки одного направления.  \n",
    "  \n",
    "Выбор пал на precision=4. Так мы отсекаем 53% пар, в остальных 47% находится 82% всех возможных курсов (103 из 126). Если поставить значение выше, то слишком много курсов не попадет в рекомендации. При низких значениях precision (отсечка непопулярных курсов), результат рандомайзера может оказаться более эффективным, чем реальный выбор людей.\n",
    "top_courses_limit=40, чтобы дать возможность попасть в рекомендации не самым популярным курсам (30% выборка), но и не предлагать аутсайдеров."
   ]
  },
  {
   "cell_type": "markdown",
   "metadata": {},
   "source": [
    "### Функция для рекомендаций"
   ]
  },
  {
   "cell_type": "code",
   "execution_count": 9,
   "metadata": {
    "scrolled": false
   },
   "outputs": [],
   "source": [
    "import random\n",
    "\n",
    "precision = 4\n",
    "top_courses_limit = 40\n",
    "\n",
    "top_courses = set(df_pairs['1course'].iloc[:top_courses_limit]) | set(df_pairs['2course'].iloc[:top_courses_limit])\n",
    "\n",
    "def recom(chosen):\n",
    "    mask = df_pairs[['1course','2course']][(df_pairs['1course'] == chosen) | (df_pairs['2course'] == chosen)]\n",
    "    pair_count = df_pairs['users'][(df_pairs['1course'] == chosen) | (df_pairs['2course'] == chosen)].iloc[0]\n",
    "    if pair_count > precision:\n",
    "        rec1 = [x for x in mask.iloc[0] if x != chosen][0]\n",
    "        rec2 = [x for x in mask.iloc[1] if x != chosen][0]\n",
    "    elif pair_count == precision:\n",
    "        rec1 = [x for x in mask.iloc[0] if x != chosen][0]\n",
    "        rec2 = random.choice([x for x in top_courses if x not in [chosen,rec1]])\n",
    "    else:\n",
    "        rec1, rec2 = random.sample([x for x in top_courses if x != chosen], 2)\n",
    "    return (rec1, rec2)"
   ]
  },
  {
   "cell_type": "markdown",
   "metadata": {},
   "source": [
    "Альтернативный вариант, не отсекать непопулярные пары. Так в предложках появляются курсы, о которых сразу можно и не подумать, но высока вероятность рекомендации бесполезного курса. Вторая функция выдаст либо вторую по популярности пару, либо самую популярную пару на рекомендацию, если для выбранного курса существует всего одна пара.  \n",
    "  \n",
    "Использование try-except вместо if-else в этом случае увеличит время работы кода несущественно, но делает его заметно проще при чтении. Такая запись допустима, т.к. у нас проверяется не какое-то конкретное условие для выполнения кода, а сама возможность исполнения такого кода.  \n",
    "  \n",
    "Для использования этого варианта просто отключите предыдущий блок и включите следующий (не забудьте удалить кавычки в начале и в конце)."
   ]
  },
  {
   "cell_type": "markdown",
   "metadata": {},
   "source": [
    "```\n",
    "def recom(chosen):\n",
    "    mask = df_pairs[['1course','2course']][(df_pairs['1course'] == chosen) | (df_pairs['2course'] == chosen)]\n",
    "    rec1 = [x for x in mask.iloc[0] if x != chosen][0]\n",
    "    try:\n",
    "        rec2 = [x for x in mask.iloc[1] if x != chosen][0]\n",
    "    except:\n",
    "        rec2 = [x for x in mask.iloc[0] if x != chosen][0]\n",
    "    return (rec1, rec2)\n",
    "```"
   ]
  },
  {
   "cell_type": "markdown",
   "metadata": {},
   "source": [
    "Создадим таблицу рекомендаций и проверим, есть ли в рекомендациях повторы."
   ]
  },
  {
   "cell_type": "code",
   "execution_count": 10,
   "metadata": {},
   "outputs": [
    {
     "data": {
      "text/html": [
       "<div>\n",
       "<style scoped>\n",
       "    .dataframe tbody tr th:only-of-type {\n",
       "        vertical-align: middle;\n",
       "    }\n",
       "\n",
       "    .dataframe tbody tr th {\n",
       "        vertical-align: top;\n",
       "    }\n",
       "\n",
       "    .dataframe thead th {\n",
       "        text-align: right;\n",
       "    }\n",
       "</style>\n",
       "<table border=\"1\" class=\"dataframe\">\n",
       "  <thead>\n",
       "    <tr style=\"text-align: right;\">\n",
       "      <th></th>\n",
       "      <th>course_in_the_cart</th>\n",
       "      <th>main_r_course</th>\n",
       "      <th>sec_r_course</th>\n",
       "    </tr>\n",
       "  </thead>\n",
       "  <tbody>\n",
       "  </tbody>\n",
       "</table>\n",
       "</div>"
      ],
      "text/plain": [
       "Empty DataFrame\n",
       "Columns: [course_in_the_cart, main_r_course, sec_r_course]\n",
       "Index: []"
      ]
     },
     "execution_count": 10,
     "metadata": {},
     "output_type": "execute_result"
    }
   ],
   "source": [
    "recommend = pd.DataFrame({'course_in_the_cart':list(courses)}).sort_values('course_in_the_cart').reset_index(drop=True)\n",
    "recommend['r'] = recommend.course_in_the_cart.apply(recom)\n",
    "recommend[['main_r_course','sec_r_course']] = pd.DataFrame(recommend['r'].tolist(), index=recommend.index)\n",
    "recommend.drop('r', axis=1, inplace=True)\n",
    "recommend[(recommend.course_in_the_cart == recommend.main_r_course) | (recommend.course_in_the_cart == recommend.sec_r_course) | (recommend.main_r_course == recommend.sec_r_course)]"
   ]
  },
  {
   "cell_type": "markdown",
   "metadata": {},
   "source": [
    "Что ж, все в порядке. Посмотрим на нашу таблицу рекомендаций."
   ]
  },
  {
   "cell_type": "code",
   "execution_count": 11,
   "metadata": {},
   "outputs": [
    {
     "data": {
      "text/html": [
       "<div>\n",
       "<style scoped>\n",
       "    .dataframe tbody tr th:only-of-type {\n",
       "        vertical-align: middle;\n",
       "    }\n",
       "\n",
       "    .dataframe tbody tr th {\n",
       "        vertical-align: top;\n",
       "    }\n",
       "\n",
       "    .dataframe thead th {\n",
       "        text-align: right;\n",
       "    }\n",
       "</style>\n",
       "<table border=\"1\" class=\"dataframe\">\n",
       "  <thead>\n",
       "    <tr style=\"text-align: right;\">\n",
       "      <th></th>\n",
       "      <th>course_in_the_cart</th>\n",
       "      <th>main_r_course</th>\n",
       "      <th>sec_r_course</th>\n",
       "    </tr>\n",
       "  </thead>\n",
       "  <tbody>\n",
       "    <tr>\n",
       "      <th>0</th>\n",
       "      <td>356</td>\n",
       "      <td>571</td>\n",
       "      <td>357</td>\n",
       "    </tr>\n",
       "    <tr>\n",
       "      <th>1</th>\n",
       "      <td>357</td>\n",
       "      <td>571</td>\n",
       "      <td>356</td>\n",
       "    </tr>\n",
       "    <tr>\n",
       "      <th>2</th>\n",
       "      <td>358</td>\n",
       "      <td>570</td>\n",
       "      <td>752</td>\n",
       "    </tr>\n",
       "    <tr>\n",
       "      <th>3</th>\n",
       "      <td>359</td>\n",
       "      <td>570</td>\n",
       "      <td>358</td>\n",
       "    </tr>\n",
       "    <tr>\n",
       "      <th>4</th>\n",
       "      <td>360</td>\n",
       "      <td>745</td>\n",
       "      <td>516</td>\n",
       "    </tr>\n",
       "    <tr>\n",
       "      <th>...</th>\n",
       "      <td>...</td>\n",
       "      <td>...</td>\n",
       "      <td>...</td>\n",
       "    </tr>\n",
       "    <tr>\n",
       "      <th>121</th>\n",
       "      <td>1188</td>\n",
       "      <td>1141</td>\n",
       "      <td>513</td>\n",
       "    </tr>\n",
       "    <tr>\n",
       "      <th>122</th>\n",
       "      <td>1198</td>\n",
       "      <td>571</td>\n",
       "      <td>912</td>\n",
       "    </tr>\n",
       "    <tr>\n",
       "      <th>123</th>\n",
       "      <td>1199</td>\n",
       "      <td>490</td>\n",
       "      <td>502</td>\n",
       "    </tr>\n",
       "    <tr>\n",
       "      <th>124</th>\n",
       "      <td>1200</td>\n",
       "      <td>552</td>\n",
       "      <td>1125</td>\n",
       "    </tr>\n",
       "    <tr>\n",
       "      <th>125</th>\n",
       "      <td>1201</td>\n",
       "      <td>552</td>\n",
       "      <td>515</td>\n",
       "    </tr>\n",
       "  </tbody>\n",
       "</table>\n",
       "<p>126 rows × 3 columns</p>\n",
       "</div>"
      ],
      "text/plain": [
       "     course_in_the_cart  main_r_course  sec_r_course\n",
       "0                   356            571           357\n",
       "1                   357            571           356\n",
       "2                   358            570           752\n",
       "3                   359            570           358\n",
       "4                   360            745           516\n",
       "..                  ...            ...           ...\n",
       "121                1188           1141           513\n",
       "122                1198            571           912\n",
       "123                1199            490           502\n",
       "124                1200            552          1125\n",
       "125                1201            552           515\n",
       "\n",
       "[126 rows x 3 columns]"
      ]
     },
     "execution_count": 11,
     "metadata": {},
     "output_type": "execute_result"
    }
   ],
   "source": [
    "recommend"
   ]
  },
  {
   "cell_type": "markdown",
   "metadata": {},
   "source": [
    "Посмотрим на рекомендации для пяти самых популярных пар курсов."
   ]
  },
  {
   "cell_type": "code",
   "execution_count": 12,
   "metadata": {
    "scrolled": true
   },
   "outputs": [
    {
     "data": {
      "text/html": [
       "<div>\n",
       "<style scoped>\n",
       "    .dataframe tbody tr th:only-of-type {\n",
       "        vertical-align: middle;\n",
       "    }\n",
       "\n",
       "    .dataframe tbody tr th {\n",
       "        vertical-align: top;\n",
       "    }\n",
       "\n",
       "    .dataframe thead th {\n",
       "        text-align: right;\n",
       "    }\n",
       "</style>\n",
       "<table border=\"1\" class=\"dataframe\">\n",
       "  <thead>\n",
       "    <tr style=\"text-align: right;\">\n",
       "      <th></th>\n",
       "      <th>course_in_the_cart</th>\n",
       "      <th>main_r_course</th>\n",
       "      <th>sec_r_course</th>\n",
       "    </tr>\n",
       "  </thead>\n",
       "  <tbody>\n",
       "    <tr>\n",
       "      <th>14</th>\n",
       "      <td>490</td>\n",
       "      <td>566</td>\n",
       "      <td>551</td>\n",
       "    </tr>\n",
       "    <tr>\n",
       "      <th>24</th>\n",
       "      <td>515</td>\n",
       "      <td>551</td>\n",
       "      <td>489</td>\n",
       "    </tr>\n",
       "    <tr>\n",
       "      <th>30</th>\n",
       "      <td>551</td>\n",
       "      <td>566</td>\n",
       "      <td>515</td>\n",
       "    </tr>\n",
       "    <tr>\n",
       "      <th>36</th>\n",
       "      <td>566</td>\n",
       "      <td>551</td>\n",
       "      <td>794</td>\n",
       "    </tr>\n",
       "    <tr>\n",
       "      <th>65</th>\n",
       "      <td>794</td>\n",
       "      <td>566</td>\n",
       "      <td>551</td>\n",
       "    </tr>\n",
       "  </tbody>\n",
       "</table>\n",
       "</div>"
      ],
      "text/plain": [
       "    course_in_the_cart  main_r_course  sec_r_course\n",
       "14                 490            566           551\n",
       "24                 515            551           489\n",
       "30                 551            566           515\n",
       "36                 566            551           794\n",
       "65                 794            566           551"
      ]
     },
     "execution_count": 12,
     "metadata": {},
     "output_type": "execute_result"
    }
   ],
   "source": [
    "popular = set(df.groupby('resource_id').count().sort_values('user_id', ascending=False).iloc[:5].index)\n",
    "recommend[recommend.course_in_the_cart.map(lambda x: x in popular)]"
   ]
  },
  {
   "cell_type": "markdown",
   "metadata": {},
   "source": [
    "Похоже, эти ребята в одной банде и предлагают своих. Значит, рекомендательная система работает так, как должна - эти курсы явно взаимосвязаны, и такими тройками будут интересны нашим пользователям.\n",
    "\n",
    "Скорее всего люди, которые будут покупать больше трех курсов, сделают осмысленный выбор, не опираясь на рекомендации. Однако, можно проанализировать корзину глубже, и для пользователей, купивших или положивших в корзину 2 или более курса, добавить рекомендации по другой логике. Например, исключить уже показанные рекомендации и продвинуться глубже по оценке популярности. Или отсортировать курсы по направлениям и давать рандомные рекомендации."
   ]
  },
  {
   "cell_type": "markdown",
   "metadata": {},
   "source": [
    "В блоке ниже в cart можно ввести любой курс из выбранных человеком и посмотреть, какие курсы предложит ему система."
   ]
  },
  {
   "cell_type": "code",
   "execution_count": 13,
   "metadata": {},
   "outputs": [
    {
     "data": {
      "text/html": [
       "<div>\n",
       "<style scoped>\n",
       "    .dataframe tbody tr th:only-of-type {\n",
       "        vertical-align: middle;\n",
       "    }\n",
       "\n",
       "    .dataframe tbody tr th {\n",
       "        vertical-align: top;\n",
       "    }\n",
       "\n",
       "    .dataframe thead th {\n",
       "        text-align: right;\n",
       "    }\n",
       "</style>\n",
       "<table border=\"1\" class=\"dataframe\">\n",
       "  <thead>\n",
       "    <tr style=\"text-align: right;\">\n",
       "      <th></th>\n",
       "      <th>course_in_the_cart</th>\n",
       "      <th>main_r_course</th>\n",
       "      <th>sec_r_course</th>\n",
       "    </tr>\n",
       "  </thead>\n",
       "  <tbody>\n",
       "    <tr>\n",
       "      <th>121</th>\n",
       "      <td>1188</td>\n",
       "      <td>1141</td>\n",
       "      <td>513</td>\n",
       "    </tr>\n",
       "  </tbody>\n",
       "</table>\n",
       "</div>"
      ],
      "text/plain": [
       "     course_in_the_cart  main_r_course  sec_r_course\n",
       "121                1188           1141           513"
      ]
     },
     "execution_count": 13,
     "metadata": {},
     "output_type": "execute_result"
    }
   ],
   "source": [
    "cart = 1188\n",
    "recommend[recommend['course_in_the_cart'] == cart]"
   ]
  },
  {
   "cell_type": "markdown",
   "metadata": {},
   "source": [
    "## Итак,\n",
    "мы построили рекомендательную систему, которая настроена по следующим параметрам:\n",
    "\n",
    "|Условие|Действие для первой рекомендации|Действие для второй рекомендации|\n",
    "|---|---|---|\n",
    "|Если в корзине курс, который попадался в паре у k или больше людей, то|предлагается самая популярная пара этого курса|предлагается вторая по популярности пара этого курса|\n",
    "|Иначе|запускается рандомизатор на n самых популярных курсов|запускается рандомизатор на n самых популярных курсов|\n",
    "|Значения по умолчанию|k=4, n=40||\n",
    "\n",
    "Параметры k и n настраиваются в блоке \"Функция для рекомендаций\", где\n",
    "            k - значение переменной precision\n",
    "            n - значение переменной tpo_courses_limit\n",
    "\n",
    "Кроме того, есть дополнительная возможность с другой рекомендательной системой:\n",
    "\n",
    "|Условие|Действие для первой рекомендации|Действие для второй рекомендации|\n",
    "|---|---|---|\n",
    "|Если в корзине курс, который выбрало 2 или более людей,|предлагается самая популярная пара этого курса|предлагается вторая по популярности пара этого курса|\n",
    "|Если такой курс был в паре только у одного человека,|предлагается самая популярная пара этого курса|предлагается самая популярная пара к первой рекомендации|  \n",
    "  \n",
    "  \n",
    "Проверить, какие рекомендации дает система можно в блоке выше, подставив ID нужного курса в переменную cart  "
   ]
  },
  {
   "cell_type": "markdown",
   "metadata": {},
   "source": [
    "# Тестирование новой фичи\n",
    "## Проверка\n",
    "Конверсия до внедрения фичи - 3.2%  \n",
    "Ожидаемая конверсия после внедрения - 4%  \n",
    "  \n",
    "Уровень достоверности - 95% ($\\alpha$ = 5%)  \n",
    "Статистическая мощность - 80% ($\\beta$ = 20%)  \n",
    "  \n",
    "Контрольная группа: 8732 клиента, из них 293 купили больше 1 курса.  \n",
    "Тестовая группа: 8847 клиентов, из них 347 больше 1 курса."
   ]
  },
  {
   "cell_type": "code",
   "execution_count": 14,
   "metadata": {},
   "outputs": [],
   "source": [
    "num_a, num_b = 8732, 8847\n",
    "mult_a, mult_b = 293, 347\n",
    "rate_a, rate_b = mult_a / num_a, mult_b / num_b"
   ]
  },
  {
   "cell_type": "markdown",
   "metadata": {},
   "source": [
    "Посмотрим, насколько изменилось количество покупателей с 2+ курсами после внедрения фичи (В)"
   ]
  },
  {
   "cell_type": "code",
   "execution_count": 15,
   "metadata": {
    "scrolled": true
   },
   "outputs": [
    {
     "data": {
      "image/png": "[encoded data removed]",
      "text/plain": [
       "<Figure size 432x288 with 1 Axes>"
      ]
     },
     "metadata": {
      "needs_background": "light"
     },
     "output_type": "display_data"
    }
   ],
   "source": [
    "import matplotlib.pyplot as plt\n",
    "from scipy.stats import binom\n",
    "\n",
    "prob_conversions = np.arange(230, 420)\n",
    "prob_a = binom(num_a, rate_a).pmf(prob_conversions)\n",
    "prob_b = binom(num_b, rate_b).pmf(prob_conversions)\n",
    "\n",
    "plt.bar(prob_conversions, prob_a, label=\"A\", alpha=0.7)\n",
    "plt.bar(prob_conversions, prob_b, label=\"B\", alpha=0.7)\n",
    "plt.legend()\n",
    "plt.xlabel(\"Num converted\"); plt.ylabel(\"Probability\");"
   ]
  },
  {
   "cell_type": "markdown",
   "metadata": {},
   "source": [
    "Так же взглянем на изменение коэффициента конверсии"
   ]
  },
  {
   "cell_type": "code",
   "execution_count": 16,
   "metadata": {
    "scrolled": true
   },
   "outputs": [
    {
     "data": {
      "image/png": "[encoded data removed]",
      "text/plain": [
       "<Figure size 432x288 with 1 Axes>"
      ]
     },
     "metadata": {
      "needs_background": "light"
     },
     "output_type": "display_data"
    }
   ],
   "source": [
    "from scipy.stats import norm\n",
    "\n",
    "std_a = np.sqrt(rate_a * (1 - rate_a) / num_a)\n",
    "std_b = np.sqrt(rate_b * (1 - rate_b) / num_b)\n",
    "\n",
    "conv_rate = np.linspace(0.025, 0.05, 200)\n",
    "prob_a = norm(rate_a, std_a).pdf(conv_rate)\n",
    "prob_b = norm(rate_b, std_b).pdf(conv_rate)\n",
    "\n",
    "plt.plot(conv_rate, prob_a, label=\"A\")\n",
    "plt.plot(conv_rate, prob_b, label=\"B\")\n",
    "plt.legend(frameon=False)\n",
    "plt.xlabel(\"Conversion rate\"); plt.ylabel(\"Probability\");"
   ]
  },
  {
   "cell_type": "markdown",
   "metadata": {},
   "source": [
    "Немного цифр"
   ]
  },
  {
   "cell_type": "code",
   "execution_count": 17,
   "metadata": {},
   "outputs": [
    {
     "name": "stdout",
     "output_type": "stream",
     "text": [
      "zscore is 2.0071, p-value 0.0224\n"
     ]
    },
    {
     "data": {
      "image/png": "[encoded data removed]",
      "text/plain": [
       "<Figure size 432x288 with 1 Axes>"
      ]
     },
     "metadata": {
      "needs_background": "light"
     },
     "output_type": "display_data"
    }
   ],
   "source": [
    "z_score = (rate_b - rate_a) / np.sqrt(std_a**2 + std_b**2)\n",
    "p = norm(rate_b - rate_a, np.sqrt(std_a**2 + std_b**2))\n",
    "\n",
    "x = np.linspace(-0.01, 0.02, 1000)\n",
    "y = p.pdf(x)\n",
    "area_under_curve = p.sf(0)\n",
    "plt.plot(x, y, label=\"PDF\")\n",
    "plt.fill_between(x, 0, y, where=x>0, label=\"Prob(b>a)\", alpha=0.3)\n",
    "plt.annotate(f\"Area={area_under_curve:0.3f}\", (0.02, 5))\n",
    "plt.legend()\n",
    "plt.xlabel(\"Difference in conversion rate\"); plt.ylabel(\"Prob\");\n",
    "\n",
    "print(f\"zscore is {z_score:0.4f}, p-value {norm().sf(z_score):0.4f}\")"
   ]
  },
  {
   "cell_type": "code",
   "execution_count": 18,
   "metadata": {
    "scrolled": true
   },
   "outputs": [
    {
     "name": "stdout",
     "output_type": "stream",
     "text": [
      "Мы можем утверждать, что внедрение фичи успешно с вероятностью 97.8%\n"
     ]
    }
   ],
   "source": [
    "def get_confidence_ab_test(click_a, num_a, click_b, num_b):\n",
    "    rate_a = mult_a / num_a\n",
    "    rate_b = mult_b / num_b\n",
    "    std_a = np.sqrt(rate_a * (1 - rate_a) / num_a)\n",
    "    std_b = np.sqrt(rate_b * (1 - rate_b) / num_b)\n",
    "    z_score = (rate_b - rate_a) / np.sqrt(std_a**2 + std_b**2)\n",
    "    return norm.cdf(z_score)\n",
    "\n",
    "print(f\"Мы можем утверждать, что внедрение фичи успешно с вероятностью {get_confidence_ab_test(mult_a, num_a, mult_b, num_b):.1%}\")"
   ]
  },
  {
   "cell_type": "markdown",
   "metadata": {},
   "source": [
    "# Заключение\n",
    "Итак, мы можем утверждать, что введение системы рекомендаций курсов повышает конверсию и продажи с вероятностью почти 98%. Мы добились повышения конверсии до 4%, нужно реализовывать вариант с рекомендациями для все клиентов."
   ]
  }
 ],
 "metadata": {
  "kernelspec": {
   "display_name": "Python 3",
   "language": "python",
   "name": "python3"
  },
  "language_info": {
   "codemirror_mode": {
    "name": "ipython",
    "version": 3
   },
   "file_extension": ".py",
   "mimetype": "text/x-python",
   "name": "python",
   "nbconvert_exporter": "python",
   "pygments_lexer": "ipython3",
   "version": "3.8.5"
  }
 },
 "nbformat": 4,
 "nbformat_minor": 4
}
