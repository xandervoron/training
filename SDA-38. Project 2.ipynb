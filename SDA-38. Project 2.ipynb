{
 "cells": [
  {
   "cell_type": "markdown",
   "metadata": {},
   "source": [
    "# Анализ взаимодействия пользователей с игрой\n",
    "## в рамках учебного проекта курса SDA-38\n",
    "### студент Ворон А.А."
   ]
  },
  {
   "cell_type": "markdown",
   "metadata": {},
   "source": [
    "## Задачи\n",
    "#### 1. Проверить, отличается ли время прохождения различных этапов для пользователей, которые прошли обучение, от пользователей, не начинавших обучение. \n",
    "Насколько обучение сокращает время прохождения этапов?\n",
    "\n",
    "#### 2. Посмотреть, существует ли зависимость между вероятностью оплаты вопросов и количеством обучений, которые начинал или завершал пользователь. \n",
    "Нужно доказать, что успешное обучение само по себе влияет на оплату, и без разницы, каким этапом оно шло.\n",
    "\n",
    "#### 3. Дополнительная задача. Как часто пользователи начинают обучение после того, как они выбрали уровень сложности? \n",
    "Это позволит нам понять, насколько прозрачен процесс взаимодействия с игрой: если пользователи после выбора уровня сложности обращаются к обучению, значит, работа с приложением непонятна."
   ]
  },
  {
   "cell_type": "markdown",
   "metadata": {},
   "source": [
    "## Структура решения:\n",
    "1. Создадим объединенную таблицу, далее будем обращаться только к ней.\n",
    "2. Создадим несолько функций для повторяющихся действий. Среди них создание множества пользователей по определенным критериям (зарегистрированные, не прошедшие обучение, начавшие, но не закончившие, прошедшие обучение, совершившие покупку и т.д.), вычисление временных интервалов между разными событиями для определенных групп пользователей. \n",
    "3. Проведем ряд исследований интервалов по группам пользователей для решения первой задачи.\n",
    "4. Для решения второй задачи разобьем группу пользователей, прошедших обучение, по количеству обучений и посмотрим покупки каждой подгруппы.\n",
    "5. Для третьей задачи найдем нужных нам пользователей и сравним их с общим числом."
   ]
  },
  {
   "cell_type": "markdown",
   "metadata": {},
   "source": [
    "#### Для начала загрузим исходные таблицы через pandas и создадим единый датафрейм"
   ]
  },
  {
   "cell_type": "code",
   "execution_count": 1,
   "metadata": {},
   "outputs": [],
   "source": [
    "import pandas as pd\n",
    "import datetime as dt\n",
    "import matplotlib.pyplot as plt\n",
    "import seaborn as sns\n",
    "import plotly.express as px\n",
    "import warnings; warnings.simplefilter('ignore') #warning filter disabled\n",
    "\n",
    "df_events = pd.read_csv('7_4_events.csv')\n",
    "df_purchase = pd.read_csv('7_4_purchase.csv')\n",
    "\n",
    "# оставим только пользователей, зарегистрировавшихся в 2018 году\n",
    "filter1 = df_events['event_type'] == 'registration' # фильтр по событию\n",
    "filter2 = df_events['start_time'].str[:4] == '2018' # фильтр по году\n",
    "uid_2018 = set(df_events['user_id'].loc[filter1 & filter2]) # сет uid по фильтрам\n",
    "df_events = df_events.loc[df_events['user_id'].isin(uid_2018)] # отфильтрованный датафрейм\n",
    "df_purchase = df_purchase.loc[df_purchase['user_id'].isin(uid_2018)] # заодно отфильтруем датафрейм покупок\n",
    "\n",
    "# переименуем колонки в более удобный и единый формат\n",
    "df_events = df_events.rename(columns = {'id':'event_id', 'start_time':'event_time'})\n",
    "#del df_events['tutorial_id']\n",
    "df_purchase = df_purchase.rename(columns = {'id':'purchase_id', 'event_datetime':'event_time'})\n",
    "df_purchase['event_type'] = 'purchase'\n",
    "\n",
    "# объединяем наши датафреймы\n",
    "df = pd.concat([df_events, df_purchase], ignore_index=True)\n",
    "del df_events\n",
    "del df_purchase\n",
    "\n",
    "# приведем столбец event_time в нужный формат\n",
    "df['event_time'] = pd.to_datetime(df['event_time'])\n",
    "df = df.sort_values(by=['event_time'])\n",
    "#print(df.dtypes) # можно проверить форматы"
   ]
  },
  {
   "cell_type": "markdown",
   "metadata": {},
   "source": [
    "#### Создадим несколько удобных функций. Это увеличит время работы кода, но сделает код более коротким и исключит случайные ошибки при внесении изменений"
   ]
  },
  {
   "cell_type": "code",
   "execution_count": 2,
   "metadata": {},
   "outputs": [],
   "source": [
    "def users_(x): # Создаем сеты юзеров по событиям\n",
    "    if x in list(df['event_type'].unique()): # Проверка юзеров по возможным событиям в датафрейме\n",
    "        return set(df[df['event_type'] == x]['user_id'])\n",
    "    elif x == 'no_tutorial': # Юзеры, не начавшие обучение\n",
    "        rega = set(df[df['event_type'] == 'registration']['user_id'])\n",
    "        tsu = set(df[df['event_type'] == 'tutorial_start']['user_id'])\n",
    "        return rega.difference(tsu)\n",
    "    elif x == 'not_finished': # Юзеры, начавшие, но не закончившие обучение\n",
    "        tsu = set(df[df['event_type'] == 'tutorial_start']['user_id'])\n",
    "        tfu = set(df[df['event_type'] == 'tutorial_finish']['user_id'])\n",
    "        return tsu.difference(tfu)\n",
    "    elif x == 'useless': #Юзеры, которые не совершили никаких действий после регистрации\n",
    "        rega = set(df[df['event_type'] == 'registration']['user_id'])\n",
    "        tsu = set(df[df['event_type'] == 'tutorial_start']['user_id']) # нельзя перейти к tutorial_finish, минуя этот шаг\n",
    "        lc = set(df[df['event_type'] == 'level_choice']['user_id']) # нельзя перейти к последующим гашам, минуя этот\n",
    "        return rega.difference(tsu,lc)\n",
    "\n",
    "# Следующая функция получает юзеров из предыдущей функции и события, между которыми нужно получить интервал\n",
    "# На выходе создает небольшой датафрейм как промежуточное звено на случай необходимости проверки, например, разбега в интервалах по юзерам\n",
    "def interval_between(group,first_event,second_event):\n",
    "    df_fil_1 = df.loc[df['user_id'].isin(users_(group).intersection(users_(first_event)))]\n",
    "    df_fil_1 = df_fil_1.loc[df['event_type'] == first_event]\n",
    "    df_fil_2 = df.loc[df['user_id'].isin(users_(group).intersection(users_(second_event)))]\n",
    "    df_fil_2 = df_fil_2.loc[df['event_type'] == second_event]\n",
    "    df_fil_nd_1 = df_fil_1.sort_values('event_time').drop_duplicates('user_id')\n",
    "    df_fil_nd_1 = df_fil_nd_1[['user_id','event_time']].rename(columns={'event_time':'start_time'})\n",
    "    df_fil_nd_2 = df_fil_2.sort_values('event_time').drop_duplicates('user_id')\n",
    "    df_fil_nd_2 = df_fil_nd_2[['user_id','event_time']].rename(columns={'event_time':'end_time'})\n",
    "    merged_df = df_fil_nd_1.merge(df_fil_nd_2, on='user_id', how='inner')\n",
    "    merged_df['delta'] = merged_df['end_time'] - merged_df['start_time']\n",
    "    merged_df['group'] = group\n",
    "    return merged_df\n",
    "\n",
    "describe_interval = lambda a,b,c: interval_between(a,b,c)['delta'].describe().T\n",
    "mean_interval = lambda a,b,c: interval_between(a,b,c)['delta'].mean()\n",
    "\n",
    "#Создадим функцию для построения графиков типа boxplot\n",
    "def boxplot_df(analysing_dict):\n",
    "    df_new = pd.DataFrame()\n",
    "    for k,v in analysing_dict.items():\n",
    "        df_new = pd.concat([df_new,interval_between(k, v[0], v[1])])\n",
    "    df_new['delta'] = (df_new['delta']/pd.Timedelta('1 hour')).round(2)\n",
    "    disp_boxplot = sns.boxplot(x = 'group', y = 'delta', data = df_new)\n",
    "    disp_boxplot = disp_boxplot.set(ylabel = 'interval, hours')\n",
    "    return plt.show()\n",
    "\n",
    "# Функция, которая считает долю группы А, дошедших от события B до события C\n",
    "def semifunnel(A,B,C):\n",
    "    a = users_(A)\n",
    "    b = users_(A).intersection(users_(B))\n",
    "    c = users_(C).intersection(b)\n",
    "    return len(c)/len(b),len(c),len(b)"
   ]
  },
  {
   "cell_type": "markdown",
   "metadata": {},
   "source": [
    "### Теперь у нас есть функции, с которыми легко оперировать:\n",
    "**users_(x)** - создает сеты пользователей по всем имеющимся действиям:  \n",
    "                registration  \n",
    "                tutorial_start  \n",
    "                tutorial_finish  \n",
    "                level_choice  \n",
    "                pack_choice  \n",
    "                а также добавлены сеты, которые помогут нам в дальнейшем анализе:  \n",
    "                no_tutorial - сет пользователей, которые не начинали обучение  \n",
    "                not_finished - сет пользователей, которые начали, но не закончили обучение  \n",
    "  \n",
    "**interval_between(group, first_event, second_event)**  \n",
    "                эта функция принимает на входе 3 параметра:  \n",
    "                **group** - это сет пользователей, который нам интересен. Повторяет предыдущую ф-ю  \n",
    "                **first_event** - начальное событие для вычисления интервала (из event_type)  \n",
    "                **second_event** - конечное событие для вычисления интервала  \n",
    "                На выходе получаем небольшой датафрейм с 4-мя колонками:  \n",
    "                *user_id* - id юзеров нужной группы, которые прошли до конца выбранный интервал  \n",
    "                *start_time* - время начального события  \n",
    "                *end_time* - время конечного события  \n",
    "                *delta* - интересующий нас интервал  \n",
    "                *group* - название группы, которое пригодится нам для построения графиков\n",
    "  \n",
    "**describe_interval** - предыдущая ф-я, но с применением метода describe для колонки с интервалом  \n",
    "  \n",
    "**mean_interval** - аналогично, но считаем только среднее значение (метод mean)  \n",
    "  \n",
    "**boxplot_df** - наша функция для построения графиков. Принимает словарь, построенный по принципу: ключ = группа, значение - список из двух позиций: начальное и конечное событие. Показывает boxplot, где ось X - это группа пользователей, ось Y - это интервал между событиями в часах  \n",
    "  \n",
    "**semifunnel** - задаем интересующую нас группу (A), начальное (B) и конечное (C) событие. Функция возвращает долю пользователей из этой группы, дошедших до события С после события В (неформатированную), количество пользователей на событии С и на событии В - кортеж (C/B, C, B)  "
   ]
  },
  {
   "cell_type": "markdown",
   "metadata": {},
   "source": [
    "# Приступим к решению первой задачи  \n",
    "*Цель: сравнить время прохождения различных этапов для пользователей, которые прошли обучение и отказались от него*  \n",
    "  \n",
    "Для начала проверим, насколько интерфейс настроен на то, чтобы пользователь сразу пошел проходить обучение. Для этого сравним время между регистрацией и началом обучения у тех, кто начал обучение, и между регистрацией и выбором уровня сложности тех, кто решил пропустить обучение."
   ]
  },
  {
   "cell_type": "code",
   "execution_count": 3,
   "metadata": {},
   "outputs": [
    {
     "data": {
      "image/png": "[encoded data removed]",
      "text/plain": [
       "<Figure size 432x288 with 1 Axes>"
      ]
     },
     "metadata": {
      "needs_background": "light"
     },
     "output_type": "display_data"
    }
   ],
   "source": [
    "analysing = {\n",
    "    'tutorial_start':['registration','tutorial_start'],\n",
    "    'no_tutorial':['registration','level_choice']\n",
    "}\n",
    "boxplot_df(analysing)"
   ]
  },
  {
   "cell_type": "markdown",
   "metadata": {},
   "source": [
    "Видно, что обучение найти достаточно легко, но и перейти к выбору уровня сложности совсем несложно. Видимо, эти опции находятся в одном списке меню. Пока это и не плохо, и не хорошо. Проанализируем поведение пользователей дальше. Если прохождение обучения заметно влияет на пользователей в дальнейшем, имеет смысл изменить меню, чтобы переход к обучению был более навязчивым.  \n",
    "  \n",
    "Посмотрим, отличается ли время между регистрацией и выбором уровня сложности для тех, кто не проходил обучения, начал, но не закончил, и тех, кто прошел обучение до конца."
   ]
  },
  {
   "cell_type": "code",
   "execution_count": 4,
   "metadata": {},
   "outputs": [
    {
     "data": {
      "image/png": "[encoded data removed]",
      "text/plain": [
       "<Figure size 432x288 with 1 Axes>"
      ]
     },
     "metadata": {
      "needs_background": "light"
     },
     "output_type": "display_data"
    },
    {
     "name": "stdout",
     "output_type": "stream",
     "text": [
      "Средний интервал между событиями registration и level_choice в группе no_tutorial равен\n",
      "\t0 days 05:15:33.122448979\n",
      "\tОт registration до level_choice дошли 1.21% пользователей (98 из 8068)\n",
      "\n",
      "Средний интервал между событиями registration и level_choice в группе not_finished равен\n",
      "\t0 days 08:12:57.551816958\n",
      "\tОт registration до level_choice дошли 46.21% пользователей (743 из 1608)\n",
      "\n",
      "Средний интервал между событиями registration и level_choice в группе tutorial_finish равен\n",
      "\t0 days 07:05:36.854819357\n",
      "\tОт registration до level_choice дошли 73.18% пользователей (7501 из 10250)\n",
      "\n"
     ]
    }
   ],
   "source": [
    "analysing = {\n",
    "    'no_tutorial':['registration','level_choice'],\n",
    "    'not_finished':['registration','level_choice'],\n",
    "    'tutorial_finish':['registration','level_choice']\n",
    "}\n",
    "boxplot_df(analysing)\n",
    "for k,v in analysing.items():\n",
    "    print(f'Средний интервал между событиями {v[0]} и {v[1]} в группе {k} равен\\n\\t{mean_interval(k,v[0],v[1])}')\n",
    "    print(f'\\tОт {v[0]} до {v[1]} дошли {semifunnel(k,v[0],v[1])[0]:.2%} пользователей ({semifunnel(k,v[0],v[1])[1]} из {semifunnel(k,v[0],v[1])[2]})\\n')"
   ]
  },
  {
   "cell_type": "markdown",
   "metadata": {},
   "source": [
    "Любопытно! Похоже, что пользователи, которые не проходили обучение, включаются в игру гораздо быстрее тех, кто его хотя бы начал! \n",
    "  \n",
    "Это логично - вместо того, чтобы проходить обучение, первая группа пользователей сразу переходит к уровню сложности. Такой график совсем непоказательный. Нужно сравнивать выбор уровня сложности с предыдущим действием пользователя."
   ]
  },
  {
   "cell_type": "code",
   "execution_count": 5,
   "metadata": {},
   "outputs": [
    {
     "data": {
      "image/png": "[encoded data removed]",
      "text/plain": [
       "<Figure size 432x288 with 1 Axes>"
      ]
     },
     "metadata": {
      "needs_background": "light"
     },
     "output_type": "display_data"
    }
   ],
   "source": [
    "analysing2 = {\n",
    "    'no_tutorial':['registration','level_choice'],\n",
    "    'not_finished':['tutorial_start','level_choice'],\n",
    "    'tutorial_finish':['tutorial_finish','level_choice']\n",
    "}\n",
    "boxplot_df(analysing2)"
   ]
  },
  {
   "cell_type": "markdown",
   "metadata": {},
   "source": [
    "Это уже интересно. Взглянем на цифры:"
   ]
  },
  {
   "cell_type": "code",
   "execution_count": 6,
   "metadata": {
    "scrolled": true
   },
   "outputs": [
    {
     "name": "stdout",
     "output_type": "stream",
     "text": [
      "Средний интервал между событиями registration и level_choice в группе no_tutorial равен\n",
      "\t0 days 05:15:33.122448979\n",
      "\tОт registration до level_choice дошли 1.21% пользователей (98 из 8068)\n",
      "\n",
      "Средний интервал между событиями tutorial_start и level_choice в группе not_finished равен\n",
      "\t0 days 02:47:28.088829071\n",
      "\tОт tutorial_start до level_choice дошли 46.21% пользователей (743 из 1608)\n",
      "\n",
      "Средний интервал между событиями tutorial_finish и level_choice в группе tutorial_finish равен\n",
      "\t0 days 02:19:46.959472070\n",
      "\tОт tutorial_finish до level_choice дошли 73.18% пользователей (7501 из 10250)\n",
      "\n"
     ]
    }
   ],
   "source": [
    "for k,v in analysing2.items():\n",
    "    print(f'Средний интервал между событиями {v[0]} и {v[1]} в группе {k} равен\\n\\t{mean_interval(k,v[0],v[1])}')\n",
    "    print(f'\\tОт {v[0]} до {v[1]} дошли {semifunnel(k,v[0],v[1])[0]:.2%} пользователей ({semifunnel(k,v[0],v[1])[1]} из {semifunnel(k,v[0],v[1])[2]})\\n')"
   ]
  },
  {
   "cell_type": "markdown",
   "metadata": {},
   "source": [
    "#### Предварительный вывод по первой проверке   \n",
    "  \n",
    "  \n",
    "Оказывается, те пользователи, кто хотя бы начал обучение, переходят к выбору уровня сложности вдвое быстрее тех, кто решил сразу перейти к игре!  \n",
    "  \n",
    "Мы видим, насколько невероятно низкий процент пользователей, не прошедших обучение, дошел до выбора уровня сложности. Но почему? Как такое возможно, ведь у пользователя есть всего 2 пути: начать обучение или выбрать уровень сложности?   \n",
    "  \n",
    "Так же видно, что закончившие обучение, гораздо охотнее продолжают играть. 73% против 46% из незакончивших обучение.  \n",
    "  \n",
    "Проверим, как обучение влияет на последующие этапы. Но перед этим взглянем, много ли людей не заинтересовались игрой с первого взгляда?  "
   ]
  },
  {
   "cell_type": "code",
   "execution_count": 7,
   "metadata": {
    "scrolled": false
   },
   "outputs": [
    {
     "name": "stdout",
     "output_type": "stream",
     "text": [
      "Всего зарегистрировавшихся пользователей: 19926\n",
      "из них:\n",
      "не прошедших обучение: 8068\n",
      "начавших, но не закончивших: 1608\n",
      "прошедших обучение: 10250\n",
      "сумма совпадает: True\n",
      "\n",
      "Зарегистрированные пользователи, которые не совершили никаких действий: 7970 (40.00%)\n"
     ]
    }
   ],
   "source": [
    "print(f\"Всего зарегистрировавшихся пользователей: {len(users_('registration'))}\")\n",
    "print(f\"из них:\\nне прошедших обучение: {len(users_('no_tutorial'))}\\nначавших, но не закончивших: {len(users_('not_finished'))}\\nпрошедших обучение: {len(users_('tutorial_finish'))}\")\n",
    "print(f\"сумма совпадает: {len(users_('registration')) == len(users_('no_tutorial')) + len(users_('not_finished')) + len(users_('tutorial_finish'))}\")\n",
    "\n",
    "useless_users_percent = len(users_('useless'))/len(users_('registration'))\n",
    "print(f\"\\nЗарегистрированные пользователи, которые не совершили никаких действий: {len(users_('useless'))} ({useless_users_percent:.2%})\")"
   ]
  },
  {
   "cell_type": "markdown",
   "metadata": {},
   "source": [
    "Вот и ответ. Почти 8 тысяч человек зарегистрировались, но больше не совершили никаких действий!  \n",
    "  \n",
    "**Вопрос, почему 2 из 5 зарегистрировавшихся покидает игру сразу после регистрации адресуем дизайнерам :)**  \n",
    "  \n",
    "Идем дальше. Интервалы между выбором уровня сложности и пакетом вопросов.  "
   ]
  },
  {
   "cell_type": "code",
   "execution_count": 8,
   "metadata": {},
   "outputs": [
    {
     "data": {
      "image/png": "[encoded data removed]",
      "text/plain": [
       "<Figure size 432x288 with 1 Axes>"
      ]
     },
     "metadata": {
      "needs_background": "light"
     },
     "output_type": "display_data"
    },
    {
     "name": "stdout",
     "output_type": "stream",
     "text": [
      "Средний интервал между событиями level_choice и pack_choice в группе no_tutorial равен\n",
      "\t0 days 00:05:23.824324324\n",
      "\tОт level_choice до pack_choice дошли 75.51% пользователей (74 из 98)\n",
      "\n",
      "Средний интервал между событиями level_choice и pack_choice в группе not_finished равен\n",
      "\t0 days 00:05:05.295687885\n",
      "\tОт level_choice до pack_choice дошли 65.55% пользователей (487 из 743)\n",
      "\n",
      "Средний интервал между событиями level_choice и pack_choice в группе tutorial_finish равен\n",
      "\t0 days 00:05:18.146058732\n",
      "\tОт level_choice до pack_choice дошли 69.00% пользователей (5176 из 7501)\n",
      "\n"
     ]
    }
   ],
   "source": [
    "analysing3 = {\n",
    "    'no_tutorial':['level_choice','pack_choice'],\n",
    "    'not_finished':['level_choice','pack_choice'],\n",
    "    'tutorial_finish':['level_choice','pack_choice']\n",
    "}\n",
    "boxplot_df(analysing3)\n",
    "\n",
    "for k,v in analysing3.items():\n",
    "    print(f'Средний интервал между событиями {v[0]} и {v[1]} в группе {k} равен\\n\\t{mean_interval(k,v[0],v[1])}')\n",
    "    print(f'\\tОт {v[0]} до {v[1]} дошли {semifunnel(k,v[0],v[1])[0]:.2%} пользователей ({semifunnel(k,v[0],v[1])[1]} из {semifunnel(k,v[0],v[1])[2]})\\n')"
   ]
  },
  {
   "cell_type": "markdown",
   "metadata": {},
   "source": [
    "Время между выбором уровня сложности и бесплатным пакетом вопросов у всех групп примерно одинаковое - чуть больше 5 минут.  \n",
    "Среди пользователей, не проходивших обучение, процент дошедших до этого этапа даже немного выше.  \n",
    "  \n",
    "Посмотрим на последний шаг - переход от бесплатных вопросов к платным.  "
   ]
  },
  {
   "cell_type": "code",
   "execution_count": 9,
   "metadata": {},
   "outputs": [
    {
     "data": {
      "image/png": "[encoded data removed]",
      "text/plain": [
       "<Figure size 432x288 with 1 Axes>"
      ]
     },
     "metadata": {
      "needs_background": "light"
     },
     "output_type": "display_data"
    },
    {
     "name": "stdout",
     "output_type": "stream",
     "text": [
      "Средний интервал между событиями pack_choice и purchase в группе no_tutorial равен\n",
      "\t4 days 04:49:33.590909090\n",
      "\tОт pack_choice до purchase дошли 29.73% пользователей (22 из 74)\n",
      "\n",
      "Средний интервал между событиями pack_choice и purchase в группе not_finished равен\n",
      "\t3 days 21:14:46.908396946\n",
      "\tОт pack_choice до purchase дошли 26.90% пользователей (131 из 487)\n",
      "\n",
      "Средний интервал между событиями pack_choice и purchase в группе tutorial_finish равен\n",
      "\t3 days 17:17:59.641326883\n",
      "\tОт pack_choice до purchase дошли 27.96% пользователей (1447 из 5176)\n",
      "\n",
      "Факт начала обучения сокращает время между выбором пакета вопросов и покупкой \n",
      "на 0 days 07:34:46.682512144 (7.52%)\n",
      "Прохождение обучения сокращает время между выбором пакета вопросов и покупкой \n",
      "на 0 days 11:31:33.949582207 (11.43%)\n"
     ]
    }
   ],
   "source": [
    "analysing4 = {\n",
    "    'no_tutorial':['pack_choice','purchase'],\n",
    "    'not_finished':['pack_choice','purchase'],\n",
    "    'tutorial_finish':['pack_choice','purchase']\n",
    "}\n",
    "boxplot_df(analysing4)\n",
    "\n",
    "answer = []  # Сюда сохраним интервалы между событиями, чтобы посчитать разницу между ними\n",
    "for k,v in analysing4.items():\n",
    "    print(f'Средний интервал между событиями {v[0]} и {v[1]} в группе {k} равен\\n\\t{mean_interval(k,v[0],v[1])}')\n",
    "    print(f'\\tОт {v[0]} до {v[1]} дошли {semifunnel(k,v[0],v[1])[0]:.2%} пользователей ({semifunnel(k,v[0],v[1])[1]} из {semifunnel(k,v[0],v[1])[2]})\\n')\n",
    "    answer.append(mean_interval(k,v[0],v[1]))\n",
    "\n",
    "print(f'Факт начала обучения сокращает время между выбором пакета вопросов и покупкой \\nна {answer[0]-answer[1]} ({(answer[0]-answer[1])/answer[0]:.2%})')\n",
    "print(f'Прохождение обучения сокращает время между выбором пакета вопросов и покупкой \\nна {answer[0]-answer[2]} ({(answer[0]-answer[2])/answer[0]:.2%})')\n",
    "    "
   ]
  },
  {
   "cell_type": "markdown",
   "metadata": {},
   "source": [
    "На этапе от бесплатных вопросов до покупки мы видим уже другую тенденцию. На графике это не так заметно, но в цифрах уже ощутимо: Законченное **обучение сокращает время** от выбора бесплатного пакета вопросов до покупки **более чем на 11%**  \n",
    "  \n",
    "Проверим время всего пути пользователя от регистрации до покупки по группам и узнаем, сколько процентов пользователей каждой группы дошли до покупки.  "
   ]
  },
  {
   "cell_type": "code",
   "execution_count": 10,
   "metadata": {
    "scrolled": false
   },
   "outputs": [
    {
     "data": {
      "image/png": "[encoded data removed]",
      "text/plain": [
       "<Figure size 432x288 with 1 Axes>"
      ]
     },
     "metadata": {
      "needs_background": "light"
     },
     "output_type": "display_data"
    },
    {
     "name": "stdout",
     "output_type": "stream",
     "text": [
      "Средний интервал между событиями registration и purchase в группе no_tutorial равен\n",
      "\t4 days 09:06:01.909090909\n",
      "\tОт registration до purchase дошли 0.27% пользователей (22 из 8068)\n",
      "\n",
      "Средний интервал между событиями registration и purchase в группе not_finished равен\n",
      "\t4 days 05:32:53.213740458\n",
      "\tОт registration до purchase дошли 8.15% пользователей (131 из 1608)\n",
      "\n",
      "Средний интервал между событиями registration и purchase в группе tutorial_finish равен\n",
      "\t4 days 00:30:03.247408431\n",
      "\tОт registration до purchase дошли 14.12% пользователей (1447 из 10250)\n",
      "\n",
      "Факт начала обучения сокращает время между регистрацией и покупкой \n",
      "на 0 days 03:33:08.695350451 (3.38%)\n",
      "Прохождение обучения сокращает время между регистрацией и покупкой \n",
      "на 0 days 08:35:58.661682478 (8.18%)\n",
      "\n",
      "Среднее время прохождения обучения (средний интервал между событиями tutorial_start и tutorial_finish) в группе tutorial_finish равен\t0 days 00:12:13.823121951\n"
     ]
    }
   ],
   "source": [
    "analysing5 = {\n",
    "    'no_tutorial':['registration','purchase'],\n",
    "    'not_finished':['registration','purchase'],\n",
    "    'tutorial_finish':['registration','purchase']\n",
    "}\n",
    "boxplot_df(analysing5)\n",
    "\n",
    "answer1 = []  # Сюда сохраним интервалы между событиями, чтобы посчитать разницу между ними\n",
    "for k,v in analysing5.items():\n",
    "    print(f'Средний интервал между событиями {v[0]} и {v[1]} в группе {k} равен\\n\\t{mean_interval(k,v[0],v[1])}')\n",
    "    print(f'\\tОт {v[0]} до {v[1]} дошли {semifunnel(k,v[0],v[1])[0]:.2%} пользователей ({semifunnel(k,v[0],v[1])[1]} из {semifunnel(k,v[0],v[1])[2]})\\n')\n",
    "    answer1.append(mean_interval(k,v[0],v[1]))\n",
    "\n",
    "print(f'Факт начала обучения сокращает время между регистрацией и покупкой \\nна {answer1[0]-answer1[1]} ({(answer1[0]-answer1[1])/answer1[0]:.2%})')\n",
    "print(f'Прохождение обучения сокращает время между регистрацией и покупкой \\nна {answer1[0]-answer1[2]} ({(answer1[0]-answer1[2])/answer1[0]:.2%})')\n",
    "\n",
    "analysing6 = {\n",
    "    'tutorial_finish':['tutorial_start','tutorial_finish']\n",
    "}\n",
    "\n",
    "for k,v in analysing6.items():\n",
    "    print(f'\\nСреднее время прохождения обучения (средний интервал между событиями {v[0]} и {v[1]}) в группе {k} равен\\t{mean_interval(k,v[0],v[1])}')"
   ]
  },
  {
   "cell_type": "markdown",
   "metadata": {},
   "source": [
    "Как видно, обучение влияет на на общее время от регистрации до покупки - разница в группах около 8 с половиной часов, включая время на само обучение (сокращает время от регистрации до покупки на 8%). Разница заметна, но не критична.  \n",
    "  \n",
    "**Нельзя игнорировать обучение. Оно мало влияет на временные интервалы, но всего 12 минут обучения увеличивают конверсию в 52 раза!**  \n",
    "  \n",
    "Однако, вспомним, что в группу не прошедших обучение входит армия мертвых юзеров. Посмотрим, так ли все страшно на самом деле?  "
   ]
  },
  {
   "cell_type": "code",
   "execution_count": 11,
   "metadata": {},
   "outputs": [
    {
     "name": "stdout",
     "output_type": "stream",
     "text": [
      "Конверсия реальных пользователей, не прошедших обучение, в покупателей составляет 22.45%\n"
     ]
    }
   ],
   "source": [
    "real_no_tutorial = users_('no_tutorial').difference(users_('useless'))\n",
    "no_tutorial_purchase = users_('no_tutorial').intersection(users_('purchase'))\n",
    "print(f'Конверсия реальных пользователей, не прошедших обучение, в покупателей составляет {len(no_tutorial_purchase)/len(real_no_tutorial):.2%}')"
   ]
  },
  {
   "cell_type": "markdown",
   "metadata": {},
   "source": [
    "Любопытная цифра! У нас была гипотеза, что обучение прямо влияет на конверсию в покупки, но **получили противоположный результат**!  \n",
    "Среди игроков, не начинавших обучение, конверсия составляет 22% против 14% у закончивших обучение. Впрочем, таких пользователей слишком мало, чтобы полностью доверять данным - всего 22 пользователя."
   ]
  },
  {
   "cell_type": "markdown",
   "metadata": {},
   "source": [
    "# Перейдем к решению второй задачи\n",
    "*Цель: определить зависимость покупок от количества пройденных обучений. Доказать, что успешное обучение стимулирует покупки*.\n",
    "\n",
    "Чуть выше мы уже определили, что пользователи, которые прошли обучение, совершают покупки чаще, чем те, кто его не закончил. Также мы выяснили, что среди всех пользователей, не приступивших к обучению, конверсия в покупки очень маленькая. Однако, если отбросить мертвые души, и смотреть только на пользователей, которые не прошли обучение, но при этом пошли дальше по этапам, то конверсия в покупки оказалась даже выше, чем у прошедших обучение.  \n",
    "  \n",
    "Посмотрим более детально на пользователей, прошедших обучение, и посчитаем их конверсию в покупателей.  "
   ]
  },
  {
   "cell_type": "code",
   "execution_count": 12,
   "metadata": {},
   "outputs": [
    {
     "name": "stdout",
     "output_type": "stream",
     "text": [
      "14.26% пользователей, прошедших 1 обучение, совершили покупки\n",
      "13.78% пользователей, прошедших 2 обучения, совершили покупки\n",
      "12.75% пользователей, прошедших 3 обучения, совершили покупки\n",
      "10.67% пользователей, прошедших 4 обучения, совершили покупки\n",
      "16.24% пользователей, прошедших 5 обучений, совершили покупки\n",
      "14.85% пользователей, прошедших 6 обучений, совершили покупки\n",
      "15.46% пользователей, прошедших 7 обучений, совершили покупки\n",
      "11.11% пользователей, прошедших 8 обучений, совершили покупки\n",
      "18.18% пользователей, прошедших 9 обучений, совершили покупки\n"
     ]
    },
    {
     "data": {
      "image/png": "[encoded data removed]",
      "text/plain": [
       "<Figure size 432x288 with 1 Axes>"
      ]
     },
     "metadata": {
      "needs_background": "light"
     },
     "output_type": "display_data"
    }
   ],
   "source": [
    "# создаем датафрейм, в котором будут сгруппированы uid и количество обучений\n",
    "count_tutorials = df.loc[df['event_type'] == 'tutorial_finish'].groupby('user_id').count().reset_index().sort_values('event_type')\n",
    "count_tutorials = count_tutorials[['user_id','event_type']].rename(columns={'event_type':'num_of_tutorials'})\n",
    "num_tutorials = set(count_tutorials['num_of_tutorials']) # множество всех возможных количеств обучений (больше нуля)\n",
    "# превратим датафрейм в словарь, а значения в словаре в привычное множество\n",
    "count_tutorials = count_tutorials.groupby('num_of_tutorials')['user_id'].unique().to_dict()\n",
    "for i in num_tutorials:\n",
    "    count_tutorials[i] = set(count_tutorials[i])\n",
    "\n",
    "# запускаем цикл, чтобы увидеть все в цифрах, заодно соберем результат в список для визуализации\n",
    "result = []\n",
    "for i in num_tutorials:\n",
    "    tut_users_purch = count_tutorials[i].intersection(users_('purchase')) # юзеры, совершившие покупку\n",
    "    # плюс небольшой блок для красоты\n",
    "    if i == 1:\n",
    "        ending = 'е'\n",
    "    elif i in (2,3,4):\n",
    "        ending = 'я'\n",
    "    else:\n",
    "        ending = 'й'\n",
    "    print(f'{len(tut_users_purch)/len(count_tutorials[i]):.2%} пользователей, прошедших {i} обучени{ending}, совершили покупки')\n",
    "    result.append((i,len(tut_users_purch)/len(count_tutorials[i])))\n",
    "    \n",
    "# превратим список в датафрейм для визуализации\n",
    "result = pd.DataFrame(result,columns=['tutorials','part'])\n",
    "sns.barplot(x = 'tutorials', y = 'part', data = result, color = 'lightblue')\n",
    "plt.show()"
   ]
  },
  {
   "cell_type": "markdown",
   "metadata": {},
   "source": [
    "### Как видно, количество пройденных обучений никак не влияет на покупки.  \n",
    "Например, пользователи, прошедшие обучение 8 раз, реже совершают покупки, чем пользователи, прошедшие обучение лишь единожды. При этом после 5 обучений покупки совершают чаще, чем после 4."
   ]
  },
  {
   "cell_type": "markdown",
   "metadata": {},
   "source": [
    "# Перейдем к третьей задаче\n",
    "*Цель: узнать, как часто пользователи начинают обучение уже после выбора уровня сложности*"
   ]
  },
  {
   "cell_type": "code",
   "execution_count": 13,
   "metadata": {},
   "outputs": [
    {
     "name": "stdout",
     "output_type": "stream",
     "text": [
      "1386 пользователей перешли к обучению после выбора уровня сложности.\n",
      "Это 6.96% от всех зарегистрировавшихся пользователей\n",
      "и 11.59% от реально играющих (за вычетом тех, кто только зарегистровался)\n"
     ]
    },
    {
     "data": {
      "image/png": "[encoded data removed]",
      "text/plain": [
       "<Figure size 432x288 with 1 Axes>"
      ]
     },
     "metadata": {},
     "output_type": "display_data"
    }
   ],
   "source": [
    "# создадим датафрейм всех пользователей, которые выбрали уровень сложности и начали обучение\n",
    "lvl_c = df[df['event_type'] == 'level_choice'].rename(columns={'event_time':'start_time'})\n",
    "tut_s = df[df['event_type'] == 'tutorial_start'].rename(columns={'event_time':'end_time'})\n",
    "merged_df = lvl_c[['user_id','start_time']].merge(tut_s[['user_id','end_time']],on='user_id',how='inner')\n",
    "merged_df['delta'] = merged_df['end_time'] - merged_df['start_time']\n",
    "merged_df = merged_df[merged_df['delta'] >= '0'].drop_duplicates('user_id') # исключим отрицательные интервалы, т.к. это обычный путь пользователя, и уберем повторения\n",
    "confused_users = set(merged_df['user_id']) \n",
    "# теперь у нас есть множество пользователей, которые перешли к обучению после выбора уровня сложности\n",
    "\n",
    "print(f\"{len(confused_users)} пользователей перешли к обучению после выбора уровня сложности.\\nЭто {len(confused_users)/len(users_('registration')):.2%} от всех зарегистрировавшихся пользователей\\nи {len(confused_users)/len(users_('registration').difference(users_('useless'))):.2%} от реально играющих (за вычетом тех, кто только зарегистровался)\")\n",
    "plt.pie([len(users_('registration').difference(users_('useless')))-len(confused_users),len(confused_users)],explode=(0,0.2),labels=['straight players','confused players'],shadow=True, autopct='%1.2f%%')\n",
    "plt.show()"
   ]
  },
  {
   "cell_type": "markdown",
   "metadata": {},
   "source": [
    "**11.59% играющих пользователей** перешли к обучению после выбора уровня сложности - **достаточно много!**"
   ]
  },
  {
   "cell_type": "markdown",
   "metadata": {},
   "source": [
    "# ВЫВОДЫ\n",
    "## Сухие цифры:\n",
    "#### Пользователей зарегистрировалось: 19926\n",
    "#### Пользователей, начавших обучение обучение: 11858\n",
    "Из них:   \n",
    "Закончивших обучение: 10250  \n",
    "Не закончивших обучение: 1608  \n",
    "#### Пользователей, не прошедших обучение, но вступивших в игру: 98\n",
    "#### Пользователей, не совершивших никаких действий, кроме регистрации: 7970\n",
    "  \n",
    "#### Временные интервалы \n",
    "| интервал \\ группа | без обучения | не закончившие обучение | закончившие обучение |\n",
    "|---|---|---|---|\n",
    "|от регистрации до выбора уровня сложности|5:15:33|8:12:57|7:05:36|\n",
    "|от предыдущего события до выбора уровня сложности|5:15:33|2:47:28|2:19:46|\n",
    "|от уровня сложности до пакета вопросов|05:23|05:05|05:18|\n",
    "|от пакета вопросов до покупки|4 дня 04:49:33|3 дня 21:14:46|3 дня 17:17:59|\n",
    "|от регистрации до покупки|4 дня 09:06:01|4 дня 05:32:53|4 дня 00:30:03|\n",
    "  \n",
    "#### Факт начала обучения сокращает время \n",
    "между выбором пакета вопросов и покупкой на **7.52%** (7:34:46)  \n",
    "между регистрацией и покупкой на **3.38%** (3:33:08) \n",
    "#### Прохождение обучения сокращает время \n",
    "между выбором пакета вопросов и покупкой на **11.43%** (11:31:36)  \n",
    "между регистрацией и покупкой на **8.18%** (8:35:58)   \n",
    "#### Среднее время обучения 12 минут 13 секунд\n",
    "#### Конверсия пользователей в покупателей:\n",
    "Не прошедших обучение (формальная): **0.27%**  \n",
    "Не прошедших обучение (**реальная**): **22.45%**  \n",
    "Не закончивших обучение: **8.15%**  \n",
    "Прошедших обучение: **14.12%**  \n",
    "  \n",
    "## Ответы на поставленные вопросы:\n",
    "### 1. Проверить, отличается ли время прохождения различных этапов для пользователей, которые прошли обучение, от пользователей, не начинавших обучение. Насколько обучение сокращает время прохождения этапов?\n",
    "Что касается первого шага - от регистрации до выбора уровня сложности - У пользователя есть всего 2 пути - начать обучение или выбрать уровень сложности. Естественно, что если считать от момента регистрации, пользователи, не прошедшие обучение, переходят ко второму этапу гораздо быстрее тех, кто обучение проходит. Если же считать переход к выбору уровня сложности от предшествующего этапа (регистрация, начало обучения, окончание обучения), то обучение играет положительную роль. На мой взгляд этот этап непоказательный, в отличие от сделующих.  \n",
    "  \n",
    "Этап от выбора уровня сложности до выбора бесплатного пакета вопросов у всех групп примерно одинаковый - чуть больше 5 минут.  \n",
    "  \n",
    "Этап от выбора бесплатного пакета до покупки платного пакета заметно сокращается при обучении. При среднем времени этого интервала в 4 дня, прошедшие обучение пользователи совершают покупку на 11 с половиной часов раньше, чем не проходившие обучение.  \n",
    "### 2. Посмотреть, существует ли зависимость между вероятностью оплаты вопросов и количеством обучений, которые начинал или завершал пользователь. Нужно доказать, что успешное обучение само по себе влияет на оплату, и без разницы, каким этапом оно шло.\n",
    "Некоторые пользователи проходили обучение несколько раз (максимально - 9). \n",
    "  \n",
    "| кол-во обучений |1|2|3|4|5|6|7|8|9|\n",
    "|---|---|---|---|---|---|---|---|---|---|\n",
    "| **конверсия в покупки** |14.26%|13.78%|12.75%|10.67%|16.24%|14.85%|15.46%|11.11%|18.18%|\n",
    "  \n",
    "Как видно из таблицы, количество пройденных обучений никак не влияет на вероятность оплаты вопросов.    \n",
    "  \n",
    "Что же касается связи обучения и факта оплаты...  \n",
    "8% пользователей, начавших, но не закончивших обучение, совершают покупки.  \n",
    "14% прошедших обучение пользователей совершают покупки.  \n",
    "Связь ощутима и заметна. Нужно стимулировать пользователей доходить до конца обучения.  \n",
    "  \n",
    "В части пользователей, не проходивших обучение, ответ не так однозначен.  \n",
    "Формально, лишь 0.27% из них совершают покупки. Это очень низкая конверсия, и конечно нужно стимулировать пользователей проходить обучение.  \n",
    "На деле большая часть не проходивших обучение пользователей вообще не совершала никаких действий после регистрации, а среди тех, кто включился в игру конверсия составляет больше **22%**, т.е. выше, чем у прошедших обучение!\n",
    "### 3. Дополнительная задача. Как часто пользователи начинают обучение после того, как они выбрали уровень сложности? Это позволит нам понять, насколько прозрачен процесс взаимодействия с игрой: если пользователи после выбора уровня сложности обращаются к обучению, значит, работа с приложением непонятна.\n",
    "1386 пользователей перешли к обучению после выбора уровня сложности.\n",
    "Это 6.96% от всех зарегистрировавшихся пользователей\n",
    "и **11.59%** от реально играющих (за вычетом тех, кто только зарегистровался).   \n",
    "Это высокий показатель. Значит, либо игра сама по себе очень сложная, либо интерфейс приложения непонятный.\n",
    "\n",
    "## Заключение\n",
    "Логика подсказывает, что регистрация - это самый простой этап. Если человек регистрируется, значит, он хочет попробовать поиграть. Однако, 40% зарегистрировавшихся так и не совершили более никаких действий. Это очень печальная цифра. Мне видятся 3 возможные причины этого:\n",
    "+ регистрация проходит в стороннем приложении, например в рекламе. Пользователь регистрируется, но остается в приложении, и после уже не возвращается к игре. В этом случае нет поводов для волнений, просто нужно исключать мертвые души из анализа, а в рекламе делать более навязчивый переход к игре, чтобы увеличить конверсию;\n",
    "+ оформление игры настолько отталкивающее, что после просмотра тизера трейлера (если он есть) пользователь уходит, взглянув на меню. В этом случае нужно полностью менять дизайн игры;\n",
    "+ игра постоянно виснет или вылетает. Тогда нужно делать проверку на лаги и запускать новый билд.  \n",
    "  \n",
    "Количество пройденных обучений не влияет на конверсию. Поэтому нет смысла стимулировать пользователей проходить обучение повторно.  \n",
    "Некоторые пользователи проходили обучение 9(!!!) раз! И более 11% активных пользователей перешли к обучению уже после выбора уровня сложности. Значит, работа с приложением непонятна.\n",
    "+ либо игра слишком сложная\n",
    "+ либо интерфейс неудобный  \n",
    "  \n",
    "Влияет ли обучение на дальнейшие покупки? Неоднозначный вопрос. Мы видим, что среди пользователей, закончивших обучение, покупки совершаются почти вдвое чаще, чем среди тех, кто начал, но не закончил. Обучение стимулирует к покупке? Или пользователи, начав обучение, теряют к игре интерес? Я думаю, второе. В подтверждение тому конверсия активных пользователей, не проходивших обучение. Она выше, чем у тех, кто обучение закончил - 22% против 14%."
   ]
  }
 ],
 "metadata": {
  "kernelspec": {
   "display_name": "Python 3",
   "language": "python",
   "name": "python3"
  },
  "language_info": {
   "codemirror_mode": {
    "name": "ipython",
    "version": 3
   },
   "file_extension": ".py",
   "mimetype": "text/x-python",
   "name": "python",
   "nbconvert_exporter": "python",
   "pygments_lexer": "ipython3",
   "version": "3.8.5"
  }
 },
 "nbformat": 4,
 "nbformat_minor": 4
}
